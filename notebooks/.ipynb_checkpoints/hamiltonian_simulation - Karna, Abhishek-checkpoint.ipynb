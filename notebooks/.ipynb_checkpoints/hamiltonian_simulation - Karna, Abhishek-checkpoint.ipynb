{
 "cells": [
  {
   "cell_type": "markdown",
   "metadata": {},
   "source": [
    "# Hamiltonian Simulation\n",
    "\n",
    "In this part of the challenge we study the evolution of closed quantum systems, i.e. systems that are described by a Hamiltonian operator $H$.\n",
    "One important aspect of this is the so-called Trotterization of the time evolution circuit, which we will explain in more detail below.\n",
    "\n",
    "Useful literature:\n",
    "- [1] A. Montanaro, Quantum Computation, Lecture notes, Chapter 7, https://people.maths.bris.ac.uk/~csxam/teaching/qc2020/lecturenotes.pdf \n",
    "- [2] T. Prosen, \"Exact nonequilibrium steady state of a strongly driven open XXZ chain\", arXiv:1106.2978, https://arxiv.org/abs/1106.2978 (2011)\n",
    "- [3] A. M. Childs et al., \"A Theory of Trotter Error\", https://arxiv.org/abs/1912.08854 (2021)\n",
    "- [4] Qiskit Docs, https://docs.quantum.ibm.com/api/qiskit/qiskit.synthesis.SuzukiTrotter\n",
    "- [5] Quantinuum Docs, https://docs.quantinuum.com/h-series/trainings/getting_started/pytket_quantinuum/Quantinuum_native_gate_compilation.html"
   ]
  },
  {
   "cell_type": "markdown",
   "metadata": {},
   "source": [
    "#### Imports"
   ]
  },
  {
   "cell_type": "code",
   "execution_count": 1,
   "metadata": {},
   "outputs": [],
   "source": [
    "# Import necessary libraries\n",
    "import numpy as np\n",
    "import matplotlib.pyplot as plt\n",
    "import networkx as nx\n",
    "import time\n",
    "import math as m\n",
    "from scipy.linalg import norm, expm, eigh\n",
    "import scipy\n",
    "from sympy import symbols, pi\n",
    "\n",
    "# Import PyTKet functionalities\n",
    "from pytket import Circuit\n",
    "from pytket.circuit import Qubit, CircBox, PauliExpBox, StatePreparationBox\n",
    "from pytket.circuit.display import render_circuit_jupyter as draw, get_circuit_renderer\n",
    "from pytket.passes import DecomposeBoxes\n",
    "from pytket.utils import QubitPauliOperator, gen_term_sequence_circuit, get_operator_expectation_value\n",
    "from pytket.utils.operators import QubitPauliOperator\n",
    "from pytket.pauli import QubitPauliString, Pauli\n",
    "from pytket.extensions.qiskit import AerStateBackend, AerBackend\n"
   ]
  },
  {
   "cell_type": "code",
   "execution_count": 2,
   "metadata": {},
   "outputs": [],
   "source": [
    "# configure some visualisations\n",
    "\n",
    "circuit_renderer = get_circuit_renderer()\n",
    "\n",
    "circuit_renderer.set_render_options(zx_style=False)\n",
    "circuit_renderer.set_render_options(crop_params=False)\n",
    "circuit_renderer.save_render_options()"
   ]
  },
  {
   "cell_type": "markdown",
   "metadata": {},
   "source": [
    "## Background"
   ]
  },
  {
   "cell_type": "markdown",
   "metadata": {},
   "source": [
    "##### Time evolution\n",
    "\n",
    "Quantum computers offer the potential to speedup simulations of systems in which quantum mechanical effects play a significant role.\n",
    "\n",
    "In quantum mechanics, the evolution of a system is governed by the Hamiltonian $H$. This is a Hermitian operator whose eigenvalues give the energy spectrum of the system. In what follows we will assume that a Hamiltonian can be represented as a ($2^N \\times 2^N$) matrix where $N$ is the number of qubits.\n",
    "\n",
    "The evolution of a pure quantum state is described by the Schrödinger equation\n",
    "\n",
    "$$\n",
    " i \\hbar \\frac{d}{dt} | \\psi(t)\\rangle = H |\\psi(t)\\rangle\n",
    "$$\n",
    "We wet $\\hbar = 1$ in the following.\n",
    "\n",
    "In general $H$ could be time dependent but we will not consider this case for now.\n",
    "\n",
    "\n",
    "It can be shown that the solution to this equation is \n",
    "\n",
    "$$\n",
    "|\\psi(t)\\rangle = e^{-i H t} |\\psi(0)\\rangle = U(t) |\\psi(0)\\rangle\\,, \\quad U(t) := e^{-i H t}\n",
    "$$\n",
    "\n",
    "We call the operator $U(t)$ the unitary time evolution operator.\n",
    "\n",
    "Observe that we are taking the exponential of the Hamiltonian matrix $H$. We can make sense of this using the series expansion of the exponential function.\n",
    "\n",
    "$$\n",
    "e^A = \\sum_{k=0}^\\infty \\frac{A^k}{k!}\\,.\n",
    "$$\n",
    "\n",
    "Now in order to simulate the evolution of a Hamiltonian $H$ on a quantum computer we need to express the time evolution operator in terms of elementary quantum gates.\n",
    "\n",
    "##### Decompososing Hamiltonians into Pauli operators\n",
    "\n",
    "Towards this goal, it is often useful to express $H$ as a linear combination of Pauli strings.\n",
    "$$\n",
    "H = \\sum_{j = 0}^{2^N -1} \\alpha_j P_j\\,, \\quad \\alpha_j \\in \\mathbb{R}\n",
    "$$\n",
    "Here each Pauli string $P_j$ is a tensor product of $N$ Pauli operators\n",
    "$$\n",
    "P_j = \\bigotimes_{j=0}^N \\sigma_j\\,, \\quad \\sigma_j \\in \\{I, X, Y, Z\\} \\,.\n",
    "$$\n",
    "The operators $P_j$ form a basis for all matrices of dimension $(2^N \\times 2^N)$. This means that any $N$ qubit operator can be expressed as a linear combination of Pauli strings $P_j$ with coefficients $\\alpha_j$.\n",
    "\n",
    "The $X, Y \\, \\text{and} \\, Z$ operators have the usual definitions\n",
    "$$\n",
    "X = \n",
    "\\begin{pmatrix}\n",
    "0 & 1 \\\\\n",
    "1 & 0\n",
    "\\end{pmatrix}\\,, \\quad Y = \n",
    "\\begin{pmatrix}\n",
    "0 & -i \\\\\n",
    "i & 0\n",
    "\\end{pmatrix}\\,, \\quad Z = \n",
    "\\begin{pmatrix}\n",
    "1 & 0 \\\\\n",
    "0 & -1\n",
    "\\end{pmatrix}\\,, \\quad\n",
    "I = \n",
    "\\begin{pmatrix}\n",
    "1 & 0 \\\\\n",
    "0 & 1\n",
    "\\end{pmatrix}\n",
    "$$\n",
    "\n",
    "Note that in general the terms of $H$, i.e. the different Pauli strings, do not commute with each other. This means that their commutator\n",
    "$$\n",
    "[P_i , P_j] \\coloneqq P_iP_j - P_jP_i \\neq 0\n",
    "$$\n",
    "is not zero. If for any two operators $A, B$ we have $[A, B] \\coloneqq AB - BA = 0$, both operators \"commute\", i.e. $AB = BA$.\n",
    "For commuting operators $A, B$, we have $e^{-it(A + B)} = e^{-itA}e^{-itB}$, i.e. the exponential factorizes. For Pauli strings $P_i$, each $e^{-itP_i}$ can be directly implemented as a quantum gate (as we see below), thus for Hamiltonians build from commuting Pauli strings, we have a straight-forward recipe to construct the time evolution operator $e^{-itH}$."
   ]
  },
  {
   "cell_type": "markdown",
   "metadata": {},
   "source": [
    "## Example: The XXZ Heisenberg model\n",
    "\n",
    "Now let's consider a concrete example of a Hamiltonian. We can start with the $XXZ$ model.\n",
    "$$\n",
    "H_{XXZ} = \\sum_{k=1}^{N-1} X^{(k)} X^{(k+1)} + Y^{(k)}  Y^{(k+1)} + \\Delta (Z^{(k)} Z^{(k+1)} ) \n",
    "$$\n",
    "with $\\Delta \\in \\mathbb{R}$. Here $A^{(k)} = I \\otimes \\cdots \\otimes I \\otimes A \\otimes I \\otimes \\cdots \\otimes I$, where $A \\in \\lbrace X, Y, Z\\rbrace$ is inserted on the $k$-th position, i.e. it is acting on the $k$-th qubits. Identities $I$ mean that no operations are performed on those qubits.\n",
    "\n",
    "\n",
    "This model describes a chain of $N$ qubits (sometimes also called spins), where each pair of neighboring spins $(i, i+1)$ interacts through the terms $XX$, $YY$ and $ZZ$.\n",
    "\n"
   ]
  },
  {
   "cell_type": "markdown",
   "metadata": {},
   "source": [
    "\n",
    "In the following we give an example how to implement this Hamiltonian in pytket.\n",
    "\n",
    "[See also [2], which will become important for the second part of this challenge on Lindblad simulation. They are using a slightly different form of the Hamiltonian, given below their Eq. (1). Show that this can be recast into the form given above.]"
   ]
  },
  {
   "cell_type": "markdown",
   "metadata": {},
   "source": [
    "With `._dict` we obtain a nice overview of all the Pauli strings $P_i$ and coefficients $\\alpha_i$."
   ]
  },
  {
   "cell_type": "code",
   "execution_count": 3,
   "metadata": {},
   "outputs": [],
   "source": [
    "def get_xxz_chain_hamiltonian(n_qubits: int, Delta_ZZ: float) -> QubitPauliOperator:\n",
    "    sites = nx.path_graph(n_qubits)\n",
    "    qpo_dict = {}\n",
    "    for e in sites.edges:\n",
    "        zz_term = QubitPauliString([Qubit(e[0]), Qubit(e[1])], [Pauli.Z, Pauli.Z])\n",
    "        xx_term = QubitPauliString([Qubit(e[0]), Qubit(e[1])], [Pauli.X, Pauli.X])\n",
    "        yy_term = QubitPauliString([Qubit(e[0]), Qubit(e[1])], [Pauli.Y, Pauli.Y])\n",
    "        qpo_dict[zz_term] = Delta_ZZ\n",
    "        qpo_dict[xx_term] = 1.0\n",
    "        qpo_dict[yy_term] = 1.0\n",
    "    return QubitPauliOperator(qpo_dict)"
   ]
  },
  {
   "cell_type": "code",
   "execution_count": 4,
   "metadata": {},
   "outputs": [],
   "source": [
    "n_qubits = 5\n",
    "Delta_ZZ = 1.72\n",
    "Delta_ZZ = 0.5\n",
    "\n",
    "xxz_ham = get_xxz_chain_hamiltonian(n_qubits=n_qubits, Delta_ZZ=Delta_ZZ)"
   ]
  },
  {
   "cell_type": "code",
   "execution_count": 5,
   "metadata": {},
   "outputs": [
    {
     "data": {
      "text/plain": [
       "{(Zq[0], Zq[1]): 0.500000000000000,\n",
       " (Xq[0], Xq[1]): 1.00000000000000,\n",
       " (Yq[0], Yq[1]): 1.00000000000000,\n",
       " (Zq[1], Zq[2]): 0.500000000000000,\n",
       " (Xq[1], Xq[2]): 1.00000000000000,\n",
       " (Yq[1], Yq[2]): 1.00000000000000,\n",
       " (Zq[2], Zq[3]): 0.500000000000000,\n",
       " (Xq[2], Xq[3]): 1.00000000000000,\n",
       " (Yq[2], Yq[3]): 1.00000000000000,\n",
       " (Zq[3], Zq[4]): 0.500000000000000,\n",
       " (Xq[3], Xq[4]): 1.00000000000000,\n",
       " (Yq[3], Yq[4]): 1.00000000000000}"
      ]
     },
     "execution_count": 5,
     "metadata": {},
     "output_type": "execute_result"
    }
   ],
   "source": [
    "xxz_ham._dict"
   ]
  },
  {
   "cell_type": "markdown",
   "metadata": {},
   "source": [
    "You can get the numpy or scipy matrix representations of the QubitPauliOperator with "
   ]
  },
  {
   "cell_type": "code",
   "execution_count": 6,
   "metadata": {},
   "outputs": [
    {
     "data": {
      "text/plain": [
       "(32, 32)"
      ]
     },
     "execution_count": 6,
     "metadata": {},
     "output_type": "execute_result"
    }
   ],
   "source": [
    "xxz_ham_matrix = xxz_ham.to_sparse_matrix(qubits=[Qubit(i) for i in range(n_qubits)]).todense()\n",
    "xxz_ham_matrix.shape"
   ]
  },
  {
   "cell_type": "markdown",
   "metadata": {},
   "source": [
    "Now we want to synthesise a circuit to implement the time evolution operator for $H_{XXZ}$\n",
    "$$\n",
    "U(t) = e^{-it \\sum_{k=1}^{N-1} X^{(k)} X^{(k+1)} + Y^{(k)}  Y^{(k+1)} + \\Delta (Z^{(k)} Z^{(k+1)} ) }\n",
    "$$\n",
    "\n",
    "In fact, the different terms in the XXZ Hamiltonian above commute with each other, which means that\n",
    "$$\n",
    "e^{-itH_{XXZ}} = \\prod_{k=1}^{N-1} e^{-it X^{(k)} X^{(k+1)}}  e^{-it Y^{(k)}  Y^{(k+1)}}  e^{-it \\Delta \\big( Z^{(k)} Z^{(k+1)} \\big)} .\n",
    "$$\n",
    "Each of the exponentials can be implemented as a quantum circuit and we obtain the full time evolution circuit by concatenating all of these circuits.\n",
    "\n",
    "First lets look at a circuit which simulates the evolution $e^{-it \\Delta Z^{(1)} Z^{(2)}} $.\n",
    "We can show that the circuit below does the job."
   ]
  },
  {
   "cell_type": "code",
   "execution_count": 7,
   "metadata": {},
   "outputs": [
    {
     "data": {
      "text/html": [
       "\n",
       "\n",
       "\n",
       "\n",
       "\n",
       "\n",
       "<div style=\"resize: vertical; overflow: auto; height: 400px; display: block\">\n",
       "    <iframe srcdoc=\"\n",
       "&lt;!DOCTYPE html&gt;\n",
       "&lt;html lang=&#34;en&#34;&gt;\n",
       "&lt;head&gt;\n",
       "    &lt;meta charset=&#34;UTF-8&#34;&gt;\n",
       "    &lt;!-- Download Vue 3--&gt;\n",
       "&lt;script type=&#34;application/javascript&#34; src=&#34;https://cdn.jsdelivr.net/npm/vue@3&#34;&gt;&lt;/script&gt;\n",
       "&lt;!-- Download Circuit Renderer with styles --&gt;\n",
       "&lt;script type=&#34;application/javascript&#34; src=&#34;https://unpkg.com/pytket-circuit-renderer@0.10/dist/pytket-circuit-renderer.umd.js&#34;&gt;&lt;/script&gt;\n",
       "&lt;link rel=&#34;stylesheet&#34; href=&#34;https://unpkg.com/pytket-circuit-renderer@0.10/dist/pytket-circuit-renderer.css&#34;&gt;\n",
       "&lt;/head&gt;\n",
       "&lt;body&gt;\n",
       "\n",
       "\n",
       "    &lt;div id=&#34;circuit-display-vue-container-645ae67e-1c69-4e35-95f9-1c62489e7bfa&#34; class=&#34;pytket-circuit-display-container&#34;&gt;\n",
       "        &lt;div style=&#34;display: none&#34;&gt;\n",
       "            &lt;div id=&#34;circuit-json-to-display&#34;&gt;{&#34;bits&#34;: [], &#34;commands&#34;: [{&#34;args&#34;: [[&#34;q&#34;, [0]], [&#34;q&#34;, [1]]], &#34;op&#34;: {&#34;type&#34;: &#34;CX&#34;}}, {&#34;args&#34;: [[&#34;q&#34;, [1]]], &#34;op&#34;: {&#34;params&#34;: [&#34;2*t*Delta&#34;], &#34;type&#34;: &#34;Rz&#34;}}, {&#34;args&#34;: [[&#34;q&#34;, [0]], [&#34;q&#34;, [1]]], &#34;op&#34;: {&#34;type&#34;: &#34;CX&#34;}}], &#34;created_qubits&#34;: [], &#34;discarded_qubits&#34;: [], &#34;implicit_permutation&#34;: [[[&#34;q&#34;, [0]], [&#34;q&#34;, [0]]], [[&#34;q&#34;, [1]], [&#34;q&#34;, [1]]]], &#34;phase&#34;: &#34;0.0&#34;, &#34;qubits&#34;: [[&#34;q&#34;, [0]], [&#34;q&#34;, [1]]]}&lt;/div&gt;\n",
       "        &lt;/div&gt;\n",
       "        &lt;circuit-display-container\n",
       "                :circuit-element-str=&#34;&#39;#circuit-json-to-display&#39;&#34;\n",
       "                :init-render-options=&#34;initRenderOptions&#34;\n",
       "                view-format=&#34;None&#34;\n",
       "        &gt;&lt;/circuit-display-container&gt;\n",
       "    &lt;/div&gt;\n",
       "    &lt;script type=&#34;application/javascript&#34;&gt;\n",
       "      const circuitRendererUid = &#34;645ae67e-1c69-4e35-95f9-1c62489e7bfa&#34;;\n",
       "      const displayOptions = JSON.parse(&#39;{&#34;zxStyle&#34;: false, &#34;cropParams&#34;: false}&#39;);\n",
       "\n",
       "      // Script to initialise the circuit renderer app\n",
       "\n",
       "const { createApp } = Vue;\n",
       "const circuitDisplayContainer = window[&#34;pytket-circuit-renderer&#34;].default;\n",
       "// Init variables to be shared between circuit display instances\n",
       "if (typeof window.pytketCircuitDisplays === &#34;undefined&#34;) {\n",
       "    window.pytketCircuitDisplays = {};\n",
       "}\n",
       "// Create the root Vue component\n",
       "const app = createApp({\n",
       "    delimiters: [&#39;[[#&#39;, &#39;#]]&#39;],\n",
       "    components: { circuitDisplayContainer },\n",
       "    data () {\n",
       "      return {\n",
       "        initRenderOptions: displayOptions,\n",
       "      }\n",
       "    }\n",
       "})\n",
       "app.config.unwrapInjectedRef = true;\n",
       "app.mount(&#34;#circuit-display-vue-container-&#34;+circuitRendererUid);\n",
       "window.pytketCircuitDisplays[circuitRendererUid] = app;\n",
       "    &lt;/script&gt;\n",
       "\n",
       "\n",
       "\n",
       "&lt;/body&gt;\n",
       "&lt;/html&gt;\n",
       "\"\n",
       "            width=\"100%\" height=\"100%\"\n",
       "            style=\"border: none; outline: none; overflow: auto\"></iframe>\n",
       "</div>\n",
       "\n"
      ],
      "text/plain": [
       "<IPython.core.display.HTML object>"
      ]
     },
     "metadata": {},
     "output_type": "display_data"
    }
   ],
   "source": [
    "delta, t = symbols(\"Delta, t\")\n",
    "\n",
    "circ = Circuit(2)\n",
    "circ.CX(0, 1)\n",
    "circ.Rz(2*delta * t, 1)\n",
    "circ.CX(0, 1)\n",
    "\n",
    "draw(circ)"
   ]
  },
  {
   "cell_type": "markdown",
   "metadata": {},
   "source": [
    "Similarly for a term like $e^{-it \\Delta Z^{(1)} Z^{(2)} Z^{(3)}} $ the three qubit circuit works\n"
   ]
  },
  {
   "cell_type": "code",
   "execution_count": 8,
   "metadata": {},
   "outputs": [
    {
     "data": {
      "text/html": [
       "\n",
       "\n",
       "\n",
       "\n",
       "\n",
       "\n",
       "<div style=\"resize: vertical; overflow: auto; height: 400px; display: block\">\n",
       "    <iframe srcdoc=\"\n",
       "&lt;!DOCTYPE html&gt;\n",
       "&lt;html lang=&#34;en&#34;&gt;\n",
       "&lt;head&gt;\n",
       "    &lt;meta charset=&#34;UTF-8&#34;&gt;\n",
       "    &lt;!-- Download Vue 3--&gt;\n",
       "&lt;script type=&#34;application/javascript&#34; src=&#34;https://cdn.jsdelivr.net/npm/vue@3&#34;&gt;&lt;/script&gt;\n",
       "&lt;!-- Download Circuit Renderer with styles --&gt;\n",
       "&lt;script type=&#34;application/javascript&#34; src=&#34;https://unpkg.com/pytket-circuit-renderer@0.10/dist/pytket-circuit-renderer.umd.js&#34;&gt;&lt;/script&gt;\n",
       "&lt;link rel=&#34;stylesheet&#34; href=&#34;https://unpkg.com/pytket-circuit-renderer@0.10/dist/pytket-circuit-renderer.css&#34;&gt;\n",
       "&lt;/head&gt;\n",
       "&lt;body&gt;\n",
       "\n",
       "\n",
       "    &lt;div id=&#34;circuit-display-vue-container-e572312d-c1d7-46a9-bc41-21653ebd4f0c&#34; class=&#34;pytket-circuit-display-container&#34;&gt;\n",
       "        &lt;div style=&#34;display: none&#34;&gt;\n",
       "            &lt;div id=&#34;circuit-json-to-display&#34;&gt;{&#34;bits&#34;: [], &#34;commands&#34;: [{&#34;args&#34;: [[&#34;q&#34;, [0]], [&#34;q&#34;, [1]]], &#34;op&#34;: {&#34;type&#34;: &#34;CX&#34;}}, {&#34;args&#34;: [[&#34;q&#34;, [1]], [&#34;q&#34;, [2]]], &#34;op&#34;: {&#34;type&#34;: &#34;CX&#34;}}, {&#34;args&#34;: [[&#34;q&#34;, [2]]], &#34;op&#34;: {&#34;params&#34;: [&#34;2*t*Delta&#34;], &#34;type&#34;: &#34;Rz&#34;}}, {&#34;args&#34;: [[&#34;q&#34;, [1]], [&#34;q&#34;, [2]]], &#34;op&#34;: {&#34;type&#34;: &#34;CX&#34;}}, {&#34;args&#34;: [[&#34;q&#34;, [0]], [&#34;q&#34;, [1]]], &#34;op&#34;: {&#34;type&#34;: &#34;CX&#34;}}], &#34;created_qubits&#34;: [], &#34;discarded_qubits&#34;: [], &#34;implicit_permutation&#34;: [[[&#34;q&#34;, [0]], [&#34;q&#34;, [0]]], [[&#34;q&#34;, [1]], [&#34;q&#34;, [1]]], [[&#34;q&#34;, [2]], [&#34;q&#34;, [2]]]], &#34;phase&#34;: &#34;0.0&#34;, &#34;qubits&#34;: [[&#34;q&#34;, [0]], [&#34;q&#34;, [1]], [&#34;q&#34;, [2]]]}&lt;/div&gt;\n",
       "        &lt;/div&gt;\n",
       "        &lt;circuit-display-container\n",
       "                :circuit-element-str=&#34;&#39;#circuit-json-to-display&#39;&#34;\n",
       "                :init-render-options=&#34;initRenderOptions&#34;\n",
       "                view-format=&#34;None&#34;\n",
       "        &gt;&lt;/circuit-display-container&gt;\n",
       "    &lt;/div&gt;\n",
       "    &lt;script type=&#34;application/javascript&#34;&gt;\n",
       "      const circuitRendererUid = &#34;e572312d-c1d7-46a9-bc41-21653ebd4f0c&#34;;\n",
       "      const displayOptions = JSON.parse(&#39;{&#34;zxStyle&#34;: false, &#34;cropParams&#34;: false}&#39;);\n",
       "\n",
       "      // Script to initialise the circuit renderer app\n",
       "\n",
       "const { createApp } = Vue;\n",
       "const circuitDisplayContainer = window[&#34;pytket-circuit-renderer&#34;].default;\n",
       "// Init variables to be shared between circuit display instances\n",
       "if (typeof window.pytketCircuitDisplays === &#34;undefined&#34;) {\n",
       "    window.pytketCircuitDisplays = {};\n",
       "}\n",
       "// Create the root Vue component\n",
       "const app = createApp({\n",
       "    delimiters: [&#39;[[#&#39;, &#39;#]]&#39;],\n",
       "    components: { circuitDisplayContainer },\n",
       "    data () {\n",
       "      return {\n",
       "        initRenderOptions: displayOptions,\n",
       "      }\n",
       "    }\n",
       "})\n",
       "app.config.unwrapInjectedRef = true;\n",
       "app.mount(&#34;#circuit-display-vue-container-&#34;+circuitRendererUid);\n",
       "window.pytketCircuitDisplays[circuitRendererUid] = app;\n",
       "    &lt;/script&gt;\n",
       "\n",
       "\n",
       "\n",
       "&lt;/body&gt;\n",
       "&lt;/html&gt;\n",
       "\"\n",
       "            width=\"100%\" height=\"100%\"\n",
       "            style=\"border: none; outline: none; overflow: auto\"></iframe>\n",
       "</div>\n",
       "\n"
      ],
      "text/plain": [
       "<IPython.core.display.HTML object>"
      ]
     },
     "metadata": {},
     "output_type": "display_data"
    }
   ],
   "source": [
    "circ1 = Circuit(3)\n",
    "circ1.CX(0, 1)\n",
    "circ1.CX(1, 2)\n",
    "circ1.Rz(2*delta * t, 2)\n",
    "circ1.CX(1, 2)\n",
    "circ1.CX(0, 1)\n",
    "\n",
    "draw(circ1)"
   ]
  },
  {
   "cell_type": "markdown",
   "metadata": {},
   "source": [
    "Here, $\\mathrm{Rz}$ gate is defined as \n",
    "$$\n",
    "\\mathrm{Rz}(\\alpha) = e^{-\\frac12 i \\pi \\alpha Z} = \\left[\n",
    "    \\begin{array}{cc} e^{-\\frac12 i \\pi\\alpha} & 0 \\\\ 0 & e^{\\frac12 i\n",
    "    \\pi\\alpha} \\end{array} \\right] \\,.\n",
    "$$"
   ]
  },
  {
   "cell_type": "markdown",
   "metadata": {},
   "source": [
    "### Task 1: Implement the time evolution under the XXZ Hamiltonian.\n",
    "\n",
    "We can easily generate the time evolution under the XXZ Hamiltonian via\n",
    "$$\n",
    "e^{-itH_{XXZ}} = \\prod_{k=1}^{N-1} e^{-it X^{(k)}s X^{(k+1)}}  e^{-it Y^{(k)} Y^{(k+1)}}  e^{-it \\Delta \\big( Z^{(k)} Z^{(k+1)} \\big)} .\n",
    "$$\n",
    "\n",
    "For example, we can use pytket's build-in function `gen_term_sequence_circuit`. Note, you will have to multiply the Hamiltonian (a `QubitPauliOperator`) with the evolution time $t$ to perform the correct time evolution.\n",
    "\n",
    "- Implement the time evolution circuit under $H_{XXZ}$ for a given target time $t$.\n",
    "- Draw the circuit. In pytket you might want to use `DecomposeBoxes()` to visualize all the single- and two-qubit gates.\n",
    "- Explore different ways how to implement the circuit (see the hints below).\n",
    "- Use an empty circuit to initialize the time evolution circuit. I.e. our initial state is $\\ket{\\psi} = \\ket{0}^{\\otimes N}$.\n",
    "\n",
    "Hints:\n",
    "- Study the commutator relation between the two terms of $K_i$. What does this imply?\n",
    "- Alternatively, the two qubit gates $e^{-\\alpha X^{(i)} X^{(j)}}$ and $e^{-\\alpha Y^{(i)} Y^{(j)}}$ can be implemented in pytket via `XXPhase` and `YYPhase`.\n",
    "- Or you can also use pytket's `TK2` gate which implements and arbitrary angle SU(4) gate [x]."
   ]
  },
  {
   "cell_type": "markdown",
   "metadata": {},
   "source": [
    "### Solution: \n",
    "#### Constructing the time evolution circuit\n",
    "First, we need to understand how to implement the two qubit gates with $XX$ and $YY$ terms. The $ZZ$ terms with the $\\Delta$ anisotropy parameter were given as examples above. Using that, we are motivated to look at the $XX$ and $YY$ terms of the product of exponentials in $U(t)$ directly using the hints of `XXPhase` and `YYPhase`"
   ]
  },
  {
   "cell_type": "code",
   "execution_count": 9,
   "metadata": {
    "scrolled": true
   },
   "outputs": [
    {
     "data": {
      "text/html": [
       "\n",
       "\n",
       "\n",
       "\n",
       "\n",
       "\n",
       "<div style=\"resize: vertical; overflow: auto; height: 400px; display: block\">\n",
       "    <iframe srcdoc=\"\n",
       "&lt;!DOCTYPE html&gt;\n",
       "&lt;html lang=&#34;en&#34;&gt;\n",
       "&lt;head&gt;\n",
       "    &lt;meta charset=&#34;UTF-8&#34;&gt;\n",
       "    &lt;!-- Download Vue 3--&gt;\n",
       "&lt;script type=&#34;application/javascript&#34; src=&#34;https://cdn.jsdelivr.net/npm/vue@3&#34;&gt;&lt;/script&gt;\n",
       "&lt;!-- Download Circuit Renderer with styles --&gt;\n",
       "&lt;script type=&#34;application/javascript&#34; src=&#34;https://unpkg.com/pytket-circuit-renderer@0.10/dist/pytket-circuit-renderer.umd.js&#34;&gt;&lt;/script&gt;\n",
       "&lt;link rel=&#34;stylesheet&#34; href=&#34;https://unpkg.com/pytket-circuit-renderer@0.10/dist/pytket-circuit-renderer.css&#34;&gt;\n",
       "&lt;/head&gt;\n",
       "&lt;body&gt;\n",
       "\n",
       "\n",
       "    &lt;div id=&#34;circuit-display-vue-container-a279efd6-61d1-4e1b-8ccc-78eceb60031f&#34; class=&#34;pytket-circuit-display-container&#34;&gt;\n",
       "        &lt;div style=&#34;display: none&#34;&gt;\n",
       "            &lt;div id=&#34;circuit-json-to-display&#34;&gt;{&#34;bits&#34;: [], &#34;commands&#34;: [{&#34;args&#34;: [[&#34;q&#34;, [0]], [&#34;q&#34;, [1]]], &#34;op&#34;: {&#34;params&#34;: [&#34;t/pi&#34;], &#34;type&#34;: &#34;XXPhase&#34;}}], &#34;created_qubits&#34;: [], &#34;discarded_qubits&#34;: [], &#34;implicit_permutation&#34;: [[[&#34;q&#34;, [0]], [&#34;q&#34;, [0]]], [[&#34;q&#34;, [1]], [&#34;q&#34;, [1]]]], &#34;phase&#34;: &#34;0.0&#34;, &#34;qubits&#34;: [[&#34;q&#34;, [0]], [&#34;q&#34;, [1]]]}&lt;/div&gt;\n",
       "        &lt;/div&gt;\n",
       "        &lt;circuit-display-container\n",
       "                :circuit-element-str=&#34;&#39;#circuit-json-to-display&#39;&#34;\n",
       "                :init-render-options=&#34;initRenderOptions&#34;\n",
       "                view-format=&#34;None&#34;\n",
       "        &gt;&lt;/circuit-display-container&gt;\n",
       "    &lt;/div&gt;\n",
       "    &lt;script type=&#34;application/javascript&#34;&gt;\n",
       "      const circuitRendererUid = &#34;a279efd6-61d1-4e1b-8ccc-78eceb60031f&#34;;\n",
       "      const displayOptions = JSON.parse(&#39;{&#34;zxStyle&#34;: false, &#34;cropParams&#34;: false}&#39;);\n",
       "\n",
       "      // Script to initialise the circuit renderer app\n",
       "\n",
       "const { createApp } = Vue;\n",
       "const circuitDisplayContainer = window[&#34;pytket-circuit-renderer&#34;].default;\n",
       "// Init variables to be shared between circuit display instances\n",
       "if (typeof window.pytketCircuitDisplays === &#34;undefined&#34;) {\n",
       "    window.pytketCircuitDisplays = {};\n",
       "}\n",
       "// Create the root Vue component\n",
       "const app = createApp({\n",
       "    delimiters: [&#39;[[#&#39;, &#39;#]]&#39;],\n",
       "    components: { circuitDisplayContainer },\n",
       "    data () {\n",
       "      return {\n",
       "        initRenderOptions: displayOptions,\n",
       "      }\n",
       "    }\n",
       "})\n",
       "app.config.unwrapInjectedRef = true;\n",
       "app.mount(&#34;#circuit-display-vue-container-&#34;+circuitRendererUid);\n",
       "window.pytketCircuitDisplays[circuitRendererUid] = app;\n",
       "    &lt;/script&gt;\n",
       "\n",
       "\n",
       "\n",
       "&lt;/body&gt;\n",
       "&lt;/html&gt;\n",
       "\"\n",
       "            width=\"100%\" height=\"100%\"\n",
       "            style=\"border: none; outline: none; overflow: auto\"></iframe>\n",
       "</div>\n",
       "\n"
      ],
      "text/plain": [
       "<IPython.core.display.HTML object>"
      ]
     },
     "metadata": {},
     "output_type": "display_data"
    },
    {
     "data": {
      "text/html": [
       "\n",
       "\n",
       "\n",
       "\n",
       "\n",
       "\n",
       "<div style=\"resize: vertical; overflow: auto; height: 400px; display: block\">\n",
       "    <iframe srcdoc=\"\n",
       "&lt;!DOCTYPE html&gt;\n",
       "&lt;html lang=&#34;en&#34;&gt;\n",
       "&lt;head&gt;\n",
       "    &lt;meta charset=&#34;UTF-8&#34;&gt;\n",
       "    &lt;!-- Download Vue 3--&gt;\n",
       "&lt;script type=&#34;application/javascript&#34; src=&#34;https://cdn.jsdelivr.net/npm/vue@3&#34;&gt;&lt;/script&gt;\n",
       "&lt;!-- Download Circuit Renderer with styles --&gt;\n",
       "&lt;script type=&#34;application/javascript&#34; src=&#34;https://unpkg.com/pytket-circuit-renderer@0.10/dist/pytket-circuit-renderer.umd.js&#34;&gt;&lt;/script&gt;\n",
       "&lt;link rel=&#34;stylesheet&#34; href=&#34;https://unpkg.com/pytket-circuit-renderer@0.10/dist/pytket-circuit-renderer.css&#34;&gt;\n",
       "&lt;/head&gt;\n",
       "&lt;body&gt;\n",
       "\n",
       "\n",
       "    &lt;div id=&#34;circuit-display-vue-container-136d799f-1211-4ba2-87e2-442f368b68c6&#34; class=&#34;pytket-circuit-display-container&#34;&gt;\n",
       "        &lt;div style=&#34;display: none&#34;&gt;\n",
       "            &lt;div id=&#34;circuit-json-to-display&#34;&gt;{&#34;bits&#34;: [], &#34;commands&#34;: [{&#34;args&#34;: [[&#34;q&#34;, [0]], [&#34;q&#34;, [1]]], &#34;op&#34;: {&#34;params&#34;: [&#34;t/pi&#34;], &#34;type&#34;: &#34;YYPhase&#34;}}], &#34;created_qubits&#34;: [], &#34;discarded_qubits&#34;: [], &#34;implicit_permutation&#34;: [[[&#34;q&#34;, [0]], [&#34;q&#34;, [0]]], [[&#34;q&#34;, [1]], [&#34;q&#34;, [1]]]], &#34;phase&#34;: &#34;0.0&#34;, &#34;qubits&#34;: [[&#34;q&#34;, [0]], [&#34;q&#34;, [1]]]}&lt;/div&gt;\n",
       "        &lt;/div&gt;\n",
       "        &lt;circuit-display-container\n",
       "                :circuit-element-str=&#34;&#39;#circuit-json-to-display&#39;&#34;\n",
       "                :init-render-options=&#34;initRenderOptions&#34;\n",
       "                view-format=&#34;None&#34;\n",
       "        &gt;&lt;/circuit-display-container&gt;\n",
       "    &lt;/div&gt;\n",
       "    &lt;script type=&#34;application/javascript&#34;&gt;\n",
       "      const circuitRendererUid = &#34;136d799f-1211-4ba2-87e2-442f368b68c6&#34;;\n",
       "      const displayOptions = JSON.parse(&#39;{&#34;zxStyle&#34;: false, &#34;cropParams&#34;: false}&#39;);\n",
       "\n",
       "      // Script to initialise the circuit renderer app\n",
       "\n",
       "const { createApp } = Vue;\n",
       "const circuitDisplayContainer = window[&#34;pytket-circuit-renderer&#34;].default;\n",
       "// Init variables to be shared between circuit display instances\n",
       "if (typeof window.pytketCircuitDisplays === &#34;undefined&#34;) {\n",
       "    window.pytketCircuitDisplays = {};\n",
       "}\n",
       "// Create the root Vue component\n",
       "const app = createApp({\n",
       "    delimiters: [&#39;[[#&#39;, &#39;#]]&#39;],\n",
       "    components: { circuitDisplayContainer },\n",
       "    data () {\n",
       "      return {\n",
       "        initRenderOptions: displayOptions,\n",
       "      }\n",
       "    }\n",
       "})\n",
       "app.config.unwrapInjectedRef = true;\n",
       "app.mount(&#34;#circuit-display-vue-container-&#34;+circuitRendererUid);\n",
       "window.pytketCircuitDisplays[circuitRendererUid] = app;\n",
       "    &lt;/script&gt;\n",
       "\n",
       "\n",
       "\n",
       "&lt;/body&gt;\n",
       "&lt;/html&gt;\n",
       "\"\n",
       "            width=\"100%\" height=\"100%\"\n",
       "            style=\"border: none; outline: none; overflow: auto\"></iframe>\n",
       "</div>\n",
       "\n"
      ],
      "text/plain": [
       "<IPython.core.display.HTML object>"
      ]
     },
     "metadata": {},
     "output_type": "display_data"
    }
   ],
   "source": [
    "t = symbols(\"t\")\n",
    "\n",
    "# XX Evolution\n",
    "circ_xx = Circuit(2)\n",
    "circ_xx.XXPhase(t / pi, 0, 1)  # Implements e^{-i t X X}\n",
    "draw(circ_xx)\n",
    "\n",
    "# YY Evolution\n",
    "circ_yy = Circuit(2)\n",
    "circ_yy.YYPhase(t / pi, 0, 1)  # Implements e^{-i t Y Y}\n",
    "draw(circ_yy)\n"
   ]
  },
  {
   "cell_type": "markdown",
   "metadata": {},
   "source": [
    "Assuming that the phases code are correct in the library, we move towards the generating the term sequence as a summation as:"
   ]
  },
  {
   "cell_type": "code",
   "execution_count": 10,
   "metadata": {
    "scrolled": true
   },
   "outputs": [
    {
     "name": "stdout",
     "output_type": "stream",
     "text": [
      "<tket::Circuit, qubits=5, gates=20>\n"
     ]
    },
    {
     "data": {
      "text/html": [
       "\n",
       "\n",
       "\n",
       "\n",
       "\n",
       "\n",
       "<div style=\"resize: vertical; overflow: auto; height: 400px; display: block\">\n",
       "    <iframe srcdoc=\"\n",
       "&lt;!DOCTYPE html&gt;\n",
       "&lt;html lang=&#34;en&#34;&gt;\n",
       "&lt;head&gt;\n",
       "    &lt;meta charset=&#34;UTF-8&#34;&gt;\n",
       "    &lt;!-- Download Vue 3--&gt;\n",
       "&lt;script type=&#34;application/javascript&#34; src=&#34;https://cdn.jsdelivr.net/npm/vue@3&#34;&gt;&lt;/script&gt;\n",
       "&lt;!-- Download Circuit Renderer with styles --&gt;\n",
       "&lt;script type=&#34;application/javascript&#34; src=&#34;https://unpkg.com/pytket-circuit-renderer@0.10/dist/pytket-circuit-renderer.umd.js&#34;&gt;&lt;/script&gt;\n",
       "&lt;link rel=&#34;stylesheet&#34; href=&#34;https://unpkg.com/pytket-circuit-renderer@0.10/dist/pytket-circuit-renderer.css&#34;&gt;\n",
       "&lt;/head&gt;\n",
       "&lt;body&gt;\n",
       "\n",
       "\n",
       "    &lt;div id=&#34;circuit-display-vue-container-bba01aef-ebad-4775-8c02-692187136cb3&#34; class=&#34;pytket-circuit-display-container&#34;&gt;\n",
       "        &lt;div style=&#34;display: none&#34;&gt;\n",
       "            &lt;div id=&#34;circuit-json-to-display&#34;&gt;{&#34;bits&#34;: [], &#34;commands&#34;: [{&#34;args&#34;: [[&#34;q&#34;, [0]], [&#34;q&#34;, [1]]], &#34;op&#34;: {&#34;params&#34;: [&#34;t/pi&#34;], &#34;type&#34;: &#34;XXPhase&#34;}}, {&#34;args&#34;: [[&#34;q&#34;, [0]], [&#34;q&#34;, [1]]], &#34;op&#34;: {&#34;params&#34;: [&#34;t/pi&#34;], &#34;type&#34;: &#34;YYPhase&#34;}}, {&#34;args&#34;: [[&#34;q&#34;, [0]], [&#34;q&#34;, [1]]], &#34;op&#34;: {&#34;type&#34;: &#34;CX&#34;}}, {&#34;args&#34;: [[&#34;q&#34;, [1]]], &#34;op&#34;: {&#34;params&#34;: [&#34;2*t*Delta/pi&#34;], &#34;type&#34;: &#34;Rz&#34;}}, {&#34;args&#34;: [[&#34;q&#34;, [0]], [&#34;q&#34;, [1]]], &#34;op&#34;: {&#34;type&#34;: &#34;CX&#34;}}, {&#34;args&#34;: [[&#34;q&#34;, [1]], [&#34;q&#34;, [2]]], &#34;op&#34;: {&#34;params&#34;: [&#34;t/pi&#34;], &#34;type&#34;: &#34;XXPhase&#34;}}, {&#34;args&#34;: [[&#34;q&#34;, [1]], [&#34;q&#34;, [2]]], &#34;op&#34;: {&#34;params&#34;: [&#34;t/pi&#34;], &#34;type&#34;: &#34;YYPhase&#34;}}, {&#34;args&#34;: [[&#34;q&#34;, [1]], [&#34;q&#34;, [2]]], &#34;op&#34;: {&#34;type&#34;: &#34;CX&#34;}}, {&#34;args&#34;: [[&#34;q&#34;, [2]]], &#34;op&#34;: {&#34;params&#34;: [&#34;2*t*Delta/pi&#34;], &#34;type&#34;: &#34;Rz&#34;}}, {&#34;args&#34;: [[&#34;q&#34;, [1]], [&#34;q&#34;, [2]]], &#34;op&#34;: {&#34;type&#34;: &#34;CX&#34;}}, {&#34;args&#34;: [[&#34;q&#34;, [2]], [&#34;q&#34;, [3]]], &#34;op&#34;: {&#34;params&#34;: [&#34;t/pi&#34;], &#34;type&#34;: &#34;XXPhase&#34;}}, {&#34;args&#34;: [[&#34;q&#34;, [2]], [&#34;q&#34;, [3]]], &#34;op&#34;: {&#34;params&#34;: [&#34;t/pi&#34;], &#34;type&#34;: &#34;YYPhase&#34;}}, {&#34;args&#34;: [[&#34;q&#34;, [2]], [&#34;q&#34;, [3]]], &#34;op&#34;: {&#34;type&#34;: &#34;CX&#34;}}, {&#34;args&#34;: [[&#34;q&#34;, [3]]], &#34;op&#34;: {&#34;params&#34;: [&#34;2*t*Delta/pi&#34;], &#34;type&#34;: &#34;Rz&#34;}}, {&#34;args&#34;: [[&#34;q&#34;, [2]], [&#34;q&#34;, [3]]], &#34;op&#34;: {&#34;type&#34;: &#34;CX&#34;}}, {&#34;args&#34;: [[&#34;q&#34;, [3]], [&#34;q&#34;, [4]]], &#34;op&#34;: {&#34;params&#34;: [&#34;t/pi&#34;], &#34;type&#34;: &#34;XXPhase&#34;}}, {&#34;args&#34;: [[&#34;q&#34;, [3]], [&#34;q&#34;, [4]]], &#34;op&#34;: {&#34;params&#34;: [&#34;t/pi&#34;], &#34;type&#34;: &#34;YYPhase&#34;}}, {&#34;args&#34;: [[&#34;q&#34;, [3]], [&#34;q&#34;, [4]]], &#34;op&#34;: {&#34;type&#34;: &#34;CX&#34;}}, {&#34;args&#34;: [[&#34;q&#34;, [4]]], &#34;op&#34;: {&#34;params&#34;: [&#34;2*t*Delta/pi&#34;], &#34;type&#34;: &#34;Rz&#34;}}, {&#34;args&#34;: [[&#34;q&#34;, [3]], [&#34;q&#34;, [4]]], &#34;op&#34;: {&#34;type&#34;: &#34;CX&#34;}}], &#34;created_qubits&#34;: [], &#34;discarded_qubits&#34;: [], &#34;implicit_permutation&#34;: [[[&#34;q&#34;, [0]], [&#34;q&#34;, [0]]], [[&#34;q&#34;, [1]], [&#34;q&#34;, [1]]], [[&#34;q&#34;, [2]], [&#34;q&#34;, [2]]], [[&#34;q&#34;, [3]], [&#34;q&#34;, [3]]], [[&#34;q&#34;, [4]], [&#34;q&#34;, [4]]]], &#34;phase&#34;: &#34;0.0&#34;, &#34;qubits&#34;: [[&#34;q&#34;, [0]], [&#34;q&#34;, [1]], [&#34;q&#34;, [2]], [&#34;q&#34;, [3]], [&#34;q&#34;, [4]]]}&lt;/div&gt;\n",
       "        &lt;/div&gt;\n",
       "        &lt;circuit-display-container\n",
       "                :circuit-element-str=&#34;&#39;#circuit-json-to-display&#39;&#34;\n",
       "                :init-render-options=&#34;initRenderOptions&#34;\n",
       "                view-format=&#34;None&#34;\n",
       "        &gt;&lt;/circuit-display-container&gt;\n",
       "    &lt;/div&gt;\n",
       "    &lt;script type=&#34;application/javascript&#34;&gt;\n",
       "      const circuitRendererUid = &#34;bba01aef-ebad-4775-8c02-692187136cb3&#34;;\n",
       "      const displayOptions = JSON.parse(&#39;{&#34;zxStyle&#34;: false, &#34;cropParams&#34;: false}&#39;);\n",
       "\n",
       "      // Script to initialise the circuit renderer app\n",
       "\n",
       "const { createApp } = Vue;\n",
       "const circuitDisplayContainer = window[&#34;pytket-circuit-renderer&#34;].default;\n",
       "// Init variables to be shared between circuit display instances\n",
       "if (typeof window.pytketCircuitDisplays === &#34;undefined&#34;) {\n",
       "    window.pytketCircuitDisplays = {};\n",
       "}\n",
       "// Create the root Vue component\n",
       "const app = createApp({\n",
       "    delimiters: [&#39;[[#&#39;, &#39;#]]&#39;],\n",
       "    components: { circuitDisplayContainer },\n",
       "    data () {\n",
       "      return {\n",
       "        initRenderOptions: displayOptions,\n",
       "      }\n",
       "    }\n",
       "})\n",
       "app.config.unwrapInjectedRef = true;\n",
       "app.mount(&#34;#circuit-display-vue-container-&#34;+circuitRendererUid);\n",
       "window.pytketCircuitDisplays[circuitRendererUid] = app;\n",
       "    &lt;/script&gt;\n",
       "\n",
       "\n",
       "\n",
       "&lt;/body&gt;\n",
       "&lt;/html&gt;\n",
       "\"\n",
       "            width=\"100%\" height=\"100%\"\n",
       "            style=\"border: none; outline: none; overflow: auto\"></iframe>\n",
       "</div>\n",
       "\n"
      ],
      "text/plain": [
       "<IPython.core.display.HTML object>"
      ]
     },
     "metadata": {},
     "output_type": "display_data"
    }
   ],
   "source": [
    "def xxz_time_evolution(N, t, delta):\n",
    "    \"\"\"\n",
    "    Generate the quantum circuit for time evolution under the XXZ Hamiltonian.\n",
    "    \n",
    "    Parameters:\n",
    "    N (int): Number of qubits (spins in the chain).\n",
    "    t (symbolic or float): Evolution time.\n",
    "    delta (symbolic or float): XXZ anisotropy parameter.\n",
    "    \n",
    "    Returns:\n",
    "    Circuit: The quantum circuit implementing e^{-itH_{XXZ}}.\n",
    "    \"\"\"\n",
    "    circuit = Circuit(N)\n",
    "    \n",
    "    for k in range(N - 1):\n",
    "        circuit.XXPhase(t / pi, k, k+1)\n",
    "        circuit.YYPhase(t / pi, k, k+1)\n",
    "        circuit.CX(k, k+1)\n",
    "        circuit.Rz(2 * delta * t / pi, k+1)\n",
    "        circuit.CX(k, k+1)\n",
    "    \n",
    "    return circuit\n",
    "\n",
    "# Example usage\n",
    "N = 5  # Number of qubits\n",
    "t, delta = symbols(\"t Delta\")\n",
    "circuit = xxz_time_evolution(N, t, delta)\n",
    "print(circuit)\n",
    "\n",
    "# Draw the XXZ time evolution circuit\n",
    "draw(circuit)"
   ]
  },
  {
   "cell_type": "code",
   "execution_count": 11,
   "metadata": {},
   "outputs": [],
   "source": [
    "# Construct the XXZ Hamiltonian as a QubitPauliOperator\n",
    "def xxz_hamiltonian(N, delta):\n",
    "    hamiltonian = QubitPauliOperator({})\n",
    "    for k in range(N - 1):\n",
    "        hamiltonian += QubitPauliOperator({QubitPauliString([Qubit(k), Qubit(k+1)], [Pauli.X, Pauli.X]): 1.0})\n",
    "        hamiltonian += QubitPauliOperator({QubitPauliString([Qubit(k), Qubit(k+1)], [Pauli.Y, Pauli.Y]): 1.0})\n",
    "        hamiltonian += QubitPauliOperator({QubitPauliString([Qubit(k), Qubit(k+1)], [Pauli.Z, Pauli.Z]): delta})\n",
    "    return hamiltonian"
   ]
  },
  {
   "cell_type": "markdown",
   "metadata": {},
   "source": [
    "Now, we have constructed the Hamiltonian matrix in two ways: (i) as a circuit using the phase functions (ii) as an instance of the `QubitPauliOperator` class.\n",
    "## Implementing the time evolution Hamiltonian on a state vector\n",
    "\n",
    "The quantum system is initialized in the zero state:\n",
    "$$\n",
    "\\ket{\\psi_0} = \\ket{0}^{\\otimes N}\n",
    "$$\n",
    "The time evolution operator for the XXZ Hamiltonian is applied:\n",
    "$$\n",
    "\\ket{\\psi(t)} = e^{-i t H_{XXZ}} \\ket{0}^{\\otimes N}\n",
    "$$\n",
    "The circuit is executed on a quantum simulator, and the final statevector is obtained:\n",
    "$$\n",
    "\\psi_{\\text{final}} = \\text{Quantum Simulator Output}\n",
    "$$\n"
   ]
  },
  {
   "cell_type": "code",
   "execution_count": 12,
   "metadata": {},
   "outputs": [
    {
     "name": "stdout",
     "output_type": "stream",
     "text": [
      "[1.+0.j 0.+0.j 0.+0.j 0.+0.j 0.+0.j 0.+0.j 0.+0.j 0.+0.j 0.+0.j 0.+0.j\n",
      " 0.+0.j 0.+0.j 0.+0.j 0.+0.j 0.+0.j 0.+0.j 0.+0.j 0.+0.j 0.+0.j 0.+0.j\n",
      " 0.+0.j 0.+0.j 0.+0.j 0.+0.j 0.+0.j 0.+0.j 0.+0.j 0.+0.j 0.+0.j 0.+0.j\n",
      " 0.+0.j 0.+0.j]\n"
     ]
    },
    {
     "ename": "NameError",
     "evalue": "name 'scipy' is not defined",
     "output_type": "error",
     "traceback": [
      "\u001b[0;31m---------------------------------------------------------------------------\u001b[0m",
      "\u001b[0;31mNameError\u001b[0m                                 Traceback (most recent call last)",
      "Cell \u001b[0;32mIn[12], line 20\u001b[0m\n\u001b[1;32m     17\u001b[0m hamiltonian_matrix \u001b[38;5;241m=\u001b[39m hamiltonian\u001b[38;5;241m.\u001b[39mto_sparse_matrix()\u001b[38;5;241m.\u001b[39mtoarray()\n\u001b[1;32m     19\u001b[0m \u001b[38;5;66;03m# Compute the time evolution operator using matrix exponentiation\u001b[39;00m\n\u001b[0;32m---> 20\u001b[0m time_evolution_operator \u001b[38;5;241m=\u001b[39m \u001b[43mscipy\u001b[49m\u001b[38;5;241m.\u001b[39mlinalg\u001b[38;5;241m.\u001b[39mexpm(\u001b[38;5;241m-\u001b[39m\u001b[38;5;241m1\u001b[39mj \u001b[38;5;241m*\u001b[39m t_value \u001b[38;5;241m*\u001b[39m hamiltonian_matrix)\n\u001b[1;32m     22\u001b[0m \u001b[38;5;66;03m# Apply the operator to the initial state\u001b[39;00m\n\u001b[1;32m     23\u001b[0m final_state \u001b[38;5;241m=\u001b[39m time_evolution_operator \u001b[38;5;241m@\u001b[39m initial_state\n",
      "\u001b[0;31mNameError\u001b[0m: name 'scipy' is not defined"
     ]
    }
   ],
   "source": [
    "# Assign numerical values for t and delta\n",
    "t_value = 5.0  # Evolution time\n",
    "delta_value = 0.5  # XXZ anisotropy parameter\n",
    "\n",
    "# Number of qubits\n",
    "N = 5\n",
    "\n",
    "# Initialize the system in |0>^⊗N\n",
    "initial_state = np.zeros(2**N, dtype=complex)\n",
    "initial_state[0] = 1  # Represents |0⟩^{⊗N}\n",
    "\n",
    "print(initial_state)\n",
    "# Get the XXZ Hamiltonian operator\n",
    "hamiltonian = xxz_hamiltonian(N, delta_value)\n",
    "\n",
    "# Convert the Hamiltonian to a dense matrix using to_sparse_matrix().toarray()\n",
    "hamiltonian_matrix = hamiltonian.to_sparse_matrix().toarray()\n",
    "\n",
    "# Compute the time evolution operator using matrix exponentiation\n",
    "time_evolution_operator = scipy.linalg.expm(-1j * t_value * hamiltonian_matrix)\n",
    "\n",
    "# Apply the operator to the initial state\n",
    "final_state = time_evolution_operator @ initial_state\n",
    "\n",
    "print(final_state)\n"
   ]
  },
  {
   "cell_type": "markdown",
   "metadata": {},
   "source": [
    "## Now applying the time-evolution-operator to the Bell states as an example instead of the previous state"
   ]
  },
  {
   "cell_type": "code",
   "execution_count": null,
   "metadata": {},
   "outputs": [],
   "source": [
    "# Assign numerical values for t and delta\n",
    "t_value = 1.0  # Evolution time\n",
    "delta_value = 0.5  # XXZ anisotropy parameter\n",
    "\n",
    "# Number of qubits\n",
    "N = 5\n",
    "\n",
    "# Initialize the system in the GHZ state (|0000⟩ + |1111⟩) / sqrt(2)\n",
    "initial_state = np.zeros(2**N, dtype=complex)\n",
    "initial_state[0] = 1 / np.sqrt(2)\n",
    "initial_state[-1] = 1 / np.sqrt(2)  # GHZ state (|0000⟩ + |1111⟩) / sqrt(2)\n",
    "\n",
    "print(\"Initial state:\", initial_state)\n",
    "\n",
    "# Get the XXZ Hamiltonian operator\n",
    "hamiltonian = xxz_hamiltonian(N, delta_value)\n",
    "\n",
    "# Convert the Hamiltonian to a dense matrix\n",
    "hamiltonian_matrix = hamiltonian.to_sparse_matrix().toarray()\n",
    "\n",
    "# Compute the time evolution operator using matrix exponentiation\n",
    "time_evolution_operator = scipy.linalg.expm(-1j * t_value * hamiltonian_matrix)\n",
    "\n",
    "# Apply the operator to the initial state\n",
    "final_state = time_evolution_operator @ initial_state\n",
    "\n",
    "print(\"Final state:\", final_state)\n"
   ]
  },
  {
   "cell_type": "markdown",
   "metadata": {},
   "source": [
    "## Draw the previous $H_{XXZ}$ circuit using `DecomposeBoxes`"
   ]
  },
  {
   "cell_type": "code",
   "execution_count": null,
   "metadata": {},
   "outputs": [],
   "source": [
    "# Construct the XXZ time evolution circuit\n",
    "evolution_circuit = xxz_time_evolution(N, t, delta)\n",
    "\n",
    "# Substitute symbolic parameters\n",
    "evolution_circuit.symbol_substitution({t: t_value, delta: delta_value})\n",
    "\n",
    "# Apply DecomposeBoxes pass to expand any boxed subcircuits\n",
    "DecomposeBoxes().apply(evolution_circuit)\n",
    "\n",
    "# Draw the decomposed circuit\n",
    "draw(evolution_circuit)\n"
   ]
  },
  {
   "cell_type": "markdown",
   "metadata": {},
   "source": [
    "This finishes our first task. $YAY!$"
   ]
  },
  {
   "cell_type": "markdown",
   "metadata": {},
   "source": [
    "## Overview:\n",
    "\n",
    "In the following there are two sections which can be explored independently from each other. The first is about non-commuting Hamiltonians and Trotterization. The second one is about some concrete physical examples of time evolution using quantum circuits for the XXZ Heisenberg model.\n",
    "\n",
    "Each section contains a list of tasks which you can work on. However, you can also get creative and explore other related directions or tasks which might be interesting. After working on those paths, you can of course also try to come up with interesting ideas how to combine concepts from both sections."
   ]
  },
  {
   "cell_type": "markdown",
   "metadata": {},
   "source": [
    "## Section 1: Non-commuting Hamiltonians and Trotterization\n",
    "\n",
    "In this section we investigate the dependence of the Trotter error on the Trotter step size."
   ]
  },
  {
   "cell_type": "markdown",
   "metadata": {},
   "source": [
    "The XXZ Heisenberg model above has only commuting terms. In general this is not the case, and need to be more careful in implementing the time evolution under $H$.\n",
    "\n",
    "Let $A$ and $B$ be square matrices. As discussed above\n",
    "$$\n",
    "[A, B] = AB-BA = 0 \\implies e^{-i(A + B)} = e^{-iA} e^{-iB}\n",
    "$$\n",
    "\n",
    "However if the matrices $A$ and $B$ do not commute then we have an error term to deal with\n",
    "$$\n",
    "||A|| < \\delta\\,, \\quad ||B|| < \\delta \\implies e^{-i(A + B)} = e^{-iA} e^{-iB} + \\mathcal{O}(\\delta^2)\n",
    "$$\n",
    "Here $||.||$ denotes the spectral norm.\n",
    "$$\n",
    "|| A || := \\max_{|\\psi\\rangle \\neq 0} \\frac{||A|\\psi\\rangle ||}{|| \\, |\\psi\\rangle||}\n",
    "$$\n",
    "\n",
    "Now suppose we have a Hamiltonian $H$ expressed as a sum of Hermitian matrices $H_k$.\n",
    "$$\n",
    "H = \\sum_{i=1}^m H_i\n",
    "$$\n",
    "Here, the operators $H_k$ could be the weighted Pauli strings above $H_i = \\alpha_i P_i$.\n",
    "In generalt $[H_i, H_j] \\neq 0$. In this case\n",
    "$$\n",
    "e^{-i H_1 t}e^{-i H_2 t}... e^{-i H_m t} \\neq e^{-i( H_1 + ... H_m) t} \\,.\n",
    "$$\n",
    "However, one can show that for a given target accuracy $\\epsilon$, we can find a (probably large) $p \\in \\mathbb{N}$, such that the distance between both time evolution operators is small,\n",
    "$$\n",
    "|| \\big( e^{-i H_1 t/p}e^{-i H_2 t /p}... e^{-i H_m t/p}\\big)^p - e^{-i( H_1 + ... H_m) t} || \\leq \\epsilon \\,.\n",
    "$$\n",
    "\n",
    "If the $H_i$ are, as assumed above, Pauli strings, we can implement $e^{-i H_1 t/p}e^{-i H_2 t /p}... e^{-i H_m t/p}$ as a quantum circuit and concatenate it $p$ times to obtain a $\\epsilon$-close approximation of the target evolution $e^{-i( H_1 + ... H_m) t}$. The factorization formula $e^{-i H_1 t/p}e^{-i H_2 t /p}... e^{-i H_m t/p}$ is called \"first-order Trotterization\" of $H$. There are higher order Trotterization formulas which are more accurate but also more difficult to implement. We will discuss a few of them below."
   ]
  },
  {
   "cell_type": "markdown",
   "metadata": {},
   "source": [
    "### Task 1: Implement the transverse field Ising model."
   ]
  },
  {
   "cell_type": "markdown",
   "metadata": {},
   "source": [
    "The transverse field Ising model is given by\n",
    "$$\n",
    "H_\\mathrm{Ising} = - J \\sum_{i=1}^{N-1} Z^{(i)} Z^{(i+1)} + g\\sum_{i=1}^N X^{(i)}\n",
    "$$\n",
    "with interaction strength $J$ and transverse field strength $g$. We can set $g=1$ and $J=1.2$ in the following, but other parameter values can be explored."
   ]
  },
  {
   "cell_type": "code",
   "execution_count": null,
   "metadata": {},
   "outputs": [],
   "source": [
    "# Define constant pi\n",
    "pi = m.pi\n",
    "\n",
    "def generate_ising_circuit(N, t):\n",
    "    \"\"\"\n",
    "    Generates a quantum circuit simulating the evolution of the transverse field Ising model.\n",
    "\n",
    "    Parameters:\n",
    "    N : int - Number of qubits (spins)\n",
    "    t : float - Evolution time\n",
    "\n",
    "    Returns:\n",
    "    Circuit - A quantum circuit representing the evolution under H_Ising.\n",
    "    \"\"\"\n",
    "    IsingModel = Circuit(N)\n",
    "    J = 1.2  # Interaction strength\n",
    "    g = 1    # Transverse field strength\n",
    "\n",
    "    # Apply ZZ-phase interactions between neighboring qubits\n",
    "    for k in range(N - 1):\n",
    "        IsingModel.ZZPhase(-2 * J * t / pi, k, k + 1)\n",
    "\n",
    "    # Apply Rx rotations to simulate the effect of the transverse field\n",
    "    for i in range(N):\n",
    "        IsingModel.Rx(2 * g * t / pi, i)\n",
    "\n",
    "    return IsingModel"
   ]
  },
  {
   "cell_type": "code",
   "execution_count": null,
   "metadata": {},
   "outputs": [],
   "source": [
    "# Generate and display the circuit for 4 qubits and evolution time t=2\n",
    "circuit = generate_ising_circuit(4, 2)\n",
    "draw(circuit)"
   ]
  },
  {
   "cell_type": "markdown",
   "metadata": {},
   "source": [
    "### Task 2: Trotter error scaling and higher order Trotterization formulas\n",
    "\n",
    "- Implement first and second order Trotterizations\n",
    "- You can also implement even higher order Trotterizations. Higher-order Trotterization formulas are given e.g. in Eq. (13) and (14) in [3].\n",
    "- Implement the classical simulation of the quantum evolution using e.g. `numpy`. This you will need to quantify the Trotter error. You get the Trotter error by taking the distance between the state vector prepared with the Trotterized circuit, and the state vector prepared with the numerically exact classical numpy method.\n",
    "- Plot the Trotter errors vs number of Trotter steps in a double-log plot\n",
    "\n",
    "\n",
    "Hint:\n",
    "- For example, for two non-commuting operators $A,B$, the second order Trotterization reads [4]\n",
    "$$\n",
    "e^{-i t (A + B)} = e^{-i t A / 2} e^{-i t B} e^{-it A / 2}\n",
    "$$\n",
    "- Use an empty circuit to initialize the time evolution circuit. This means we are starting with the state $\\ket{\\psi} = \\ket{0}^{\\otimes N}$, where all the qubits are in the zero state.\n",
    "- You can also explore other initial states.\n",
    "- To get the state vector of the quantum circuit, you may want to use the backend `AerStateBackend()` (`from pytket.extensions.qiskit import AerStateBackend`).\n",
    "- You can get the matrix representation of a `QubitPauliOperator` with `to_sparse_matrix()` as described above.\n",
    "- The quantum circuit is initialized with the all zero state $\\ket{\\psi} = \\ket{0}^{\\otimes N}$. The corresponding initial vector for the classical numpy simulation is $v = (1, 0, \\dots , 0)\\in \\mathbb{R}^{2^n}$."
   ]
  },
  {
   "cell_type": "markdown",
   "metadata": {},
   "source": [
    "E.g. use.."
   ]
  },
  {
   "cell_type": "code",
   "execution_count": null,
   "metadata": {},
   "outputs": [],
   "source": [
    "t = 1\n",
    "n_trotter_steps = list(range(1, 202, 20))"
   ]
  },
  {
   "cell_type": "markdown",
   "metadata": {},
   "source": [
    "#### Hamiltonian Definitions"
   ]
  },
  {
   "cell_type": "code",
   "execution_count": null,
   "metadata": {},
   "outputs": [],
   "source": [
    "def get_transverse_field_ising_hamiltonian(n_qubits: int, J_ZZ: float) -> QubitPauliOperator:\n",
    "    \"\"\"\n",
    "    Generates the transverse field Ising Hamiltonian for a given number of qubits.\n",
    "\n",
    "    Parameters:\n",
    "    n_qubits (int): Number of qubits (spins) in the system.\n",
    "    J_ZZ (float): Interaction strength between neighboring qubits.\n",
    "\n",
    "    Returns:\n",
    "    QubitPauliOperator: The Hamiltonian represented as a sum of Pauli operators.\n",
    "    \"\"\"\n",
    "    \n",
    "    sites = nx.path_graph(n_qubits)\n",
    "    qpo_dict = {}\n",
    "    # Add the interaction terms (Z_i Z_(i+1))\n",
    "    for e in sites.edges:\n",
    "        zz_term = QubitPauliString([Qubit(e[0]), Qubit(e[1])], [Pauli.Z, Pauli.Z])\n",
    "        qpo_dict[zz_term] = -J_ZZ  # Negative sign represents ferromagnetic interaction\n",
    "\n",
    "    # Add the transverse field terms (X_i on each qubit)\n",
    "    for node in sites.nodes:\n",
    "        x_term = QubitPauliString([Qubit(node)], [Pauli.X])\n",
    "        qpo_dict[x_term] = 1.0  # Field strength set to 1\n",
    "\n",
    "    # Return the constructed Hamiltonian as a QubitPauliOperator\n",
    "    return QubitPauliOperator(qpo_dict)"
   ]
  },
  {
   "cell_type": "markdown",
   "metadata": {},
   "source": [
    "#### Time Evolution Methods"
   ]
  },
  {
   "cell_type": "code",
   "execution_count": null,
   "metadata": {},
   "outputs": [],
   "source": [
    "def hamiltonian_time_evolution_numpy(hamiltonian: QubitPauliOperator, t_trotterization: float, n_qubits):\n",
    "    \"\"\"\n",
    "    Computes the exact time evolution operator for a given Hamiltonian using NumPy.\n",
    "    This function converts the Hamiltonian into a matrix form and computes the matrix exponential\n",
    "    to obtain the exact evolution operator.\n",
    "\n",
    "    Parameters:\n",
    "    hamiltonian (QubitPauliOperator): The Hamiltonian describing the system.\n",
    "    t_trotterization (float): The total time over which evolution occurs.\n",
    "    n_qubits (int): Number of qubits in the system.\n",
    "\n",
    "    Returns:\n",
    "    np.ndarray: The unitary time evolution matrix U(t).\n",
    "    \"\"\"\n",
    "\n",
    "    # Convert the Hamiltonian from a QubitPauliOperator to a sparse matrix representation\n",
    "    mat = hamiltonian.to_sparse_matrix([Qubit(idx) for idx in range(n_qubits)]).todense()\n",
    "\n",
    "    # Compute the matrix exponential exp(-i * H * t) using SciPy\n",
    "    return expm(-1j * t_trotterization * mat)\n"
   ]
  },
  {
   "cell_type": "markdown",
   "metadata": {},
   "source": [
    "#### Trotterization Methods"
   ]
  },
  {
   "cell_type": "code",
   "execution_count": null,
   "metadata": {},
   "outputs": [],
   "source": [
    "def get_first_order_trotter_step(hamiltonian: QubitPauliOperator, Delta_t: float, qubits: list[Qubit]):\n",
    "    \"\"\"\n",
    "    Generates a first-order Trotterization step for Hamiltonian evolution.\n",
    "\n",
    "    Parameters:\n",
    "    hamiltonian (QubitPauliOperator): The Hamiltonian describing the system.\n",
    "    Delta_t (float): Trotter step size.\n",
    "    qubits (list[Qubit]): List of qubits involved in the simulation.\n",
    "\n",
    "    Returns:\n",
    "    CircBox: A quantum circuit implementing a single first-order Trotter step.\n",
    "    \"\"\"\n",
    "\n",
    "    # Scale the Hamiltonian to match the Trotter step size\n",
    "    scaled_hamiltonian = Delta_t * (2 / np.pi) * hamiltonian\n",
    "\n",
    "    # Generate a quantum circuit that applies the Trotter step\n",
    "    trotter_circ = gen_term_sequence_circuit(scaled_hamiltonian, reference_state=Circuit(n_qubits=len(qubits)))\n",
    "\n",
    "    return CircBox(trotter_circ)\n",
    "\n",
    "\n",
    "def get_second_order_trotter_step(hamiltonian: QubitPauliOperator, Delta_t: float, qubits: list[Qubit]):\n",
    "    \"\"\"\n",
    "    Generates a second-order Trotterization step for Hamiltonian evolution.\n",
    "\n",
    "    Parameters:\n",
    "    hamiltonian (QubitPauliOperator): The Hamiltonian describing the system.\n",
    "    Delta_t (float): Trotter step size.\n",
    "    qubits (list[Qubit]): List of qubits involved in the simulation.\n",
    "\n",
    "    Returns:\n",
    "    CircBox: A quantum circuit implementing a single second-order Trotter step.\n",
    "    \"\"\"\n",
    "\n",
    "    # Create a quantum circuit for the second-order Trotter step\n",
    "    circ = Circuit(name=\"2nd-order Trotter step\")\n",
    "\n",
    "    # Register the qubits used in the simulation\n",
    "    reg_trotterbox = circ.add_q_register(\"reg_trotterbox\", len(qubits))\n",
    "\n",
    "    # Extract the Hamiltonian terms and coefficients\n",
    "    qubit_pauli_strings = list(hamiltonian._dict.keys())\n",
    "    coefficients = list(hamiltonian._dict.values())\n",
    "\n",
    "    # Generate Pauli exponentiation gates for each term in the Hamiltonian\n",
    "    pauli_exp_boxes = [\n",
    "        PauliExpBox(\n",
    "            paulis=[qps[q] for q in qubits],\n",
    "            t=(coef / 2) * (2 / np.pi) * Delta_t\n",
    "        ) for qps, coef in zip(qubit_pauli_strings[:-1], coefficients[:-1])\n",
    "    ]\n",
    "\n",
    "    # Apply the last term with full weight\n",
    "    pauli_exp_boxes.append(\n",
    "        PauliExpBox(\n",
    "            paulis=[qubit_pauli_strings[-1][q] for q in qubits],\n",
    "            t=coefficients[-1] * (2 / np.pi) * Delta_t\n",
    "        )\n",
    "    )\n",
    "\n",
    "    # Apply the first half of the sequence\n",
    "    for pauli_exp_box in pauli_exp_boxes[:-1]:\n",
    "        circ.add_pauliexpbox(pauliexpbox=pauli_exp_box, qubits=reg_trotterbox.to_list())\n",
    "\n",
    "    # Apply the central term\n",
    "    circ.add_pauliexpbox(pauliexpbox=pauli_exp_boxes[-1], qubits=reg_trotterbox.to_list())\n",
    "\n",
    "    # Apply the second half of the sequence in reverse order\n",
    "    for pauli_exp_box in pauli_exp_boxes[-2::-1]:\n",
    "        circ.add_pauliexpbox(pauliexpbox=pauli_exp_box, qubits=reg_trotterbox.to_list())\n",
    "\n",
    "    return CircBox(circ)\n",
    "\n",
    "\n",
    "def get_first_order_trotterization(hamiltonian: QubitPauliOperator, n_qubits: int, t_trotterization: float, n_trotter_steps: int):\n",
    "    \"\"\"\n",
    "    Constructs a quantum circuit applying first-order Trotterization for Hamiltonian evolution.\n",
    "\n",
    "    Parameters:\n",
    "    hamiltonian (QubitPauliOperator): The Hamiltonian describing the system.\n",
    "    n_qubits (int): Number of qubits in the system.\n",
    "    t_trotterization (float): Total simulation time.\n",
    "    n_trotter_steps (int): Number of Trotter steps.\n",
    "\n",
    "    Returns:\n",
    "    CircBox: A quantum circuit implementing the full time evolution using first-order Trotterization.\n",
    "    \"\"\"\n",
    "\n",
    "    # Compute the individual Trotter step size\n",
    "    trotter_step_size = t_trotterization / n_trotter_steps\n",
    "\n",
    "    # Create a list of qubits\n",
    "    qubits = [Qubit(i) for i in range(n_qubits)]\n",
    "\n",
    "    # Create the main evolution circuit\n",
    "    time_evo_circ = Circuit(n_qubits=n_qubits, name=\"Time evolution\")\n",
    "\n",
    "    # Generate a single Trotter step\n",
    "    trotter_box = get_first_order_trotter_step(hamiltonian, trotter_step_size, qubits)\n",
    "\n",
    "    # Apply Trotter steps sequentially\n",
    "    for _ in range(n_trotter_steps):\n",
    "        time_evo_circ.add_circbox(trotter_box, range(n_qubits))\n",
    "\n",
    "    return CircBox(time_evo_circ)\n",
    "\n",
    "\n",
    "def get_second_order_trotterization(hamiltonian: QubitPauliOperator, n_qubits: int, t_trotterization: float, n_trotter_steps: int):\n",
    "    \"\"\"\n",
    "    Constructs a quantum circuit applying second-order Trotterization for Hamiltonian evolution.\n",
    "\n",
    "    Parameters:\n",
    "    hamiltonian (QubitPauliOperator): The Hamiltonian describing the system.\n",
    "    n_qubits (int): Number of qubits in the system.\n",
    "    t_trotterization (float): Total simulation time.\n",
    "    n_trotter_steps (int): Number of Trotter steps.\n",
    "\n",
    "    Returns:\n",
    "    CircBox: A quantum circuit implementing the full time evolution using second-order Trotterization.\n",
    "    \"\"\"\n",
    "\n",
    "    # Compute the individual Trotter step size\n",
    "    trotter_step_size = t_trotterization / n_trotter_steps\n",
    "\n",
    "    # Create a list of qubits\n",
    "    qubits = [Qubit(i) for i in range(n_qubits)]\n",
    "\n",
    "    # Create the main evolution circuit\n",
    "    time_evo_circ = Circuit(n_qubits=n_qubits, name=\"Time evolution\")\n",
    "\n",
    "    # Generate a single second-order Trotter step\n",
    "    trotter_box = get_second_order_trotter_step(hamiltonian, trotter_step_size, qubits)\n",
    "\n",
    "    # Apply Trotter steps sequentially\n",
    "    for _ in range(n_trotter_steps):\n",
    "        time_evo_circ.add_circbox(trotter_box, range(n_qubits))\n",
    "\n",
    "    return CircBox(time_evo_circ)"
   ]
  },
  {
   "cell_type": "markdown",
   "metadata": {},
   "source": [
    "#### Running the Simulation"
   ]
  },
  {
   "cell_type": "code",
   "execution_count": null,
   "metadata": {},
   "outputs": [],
   "source": [
    "# Initialize the quantum backend (Qiskit Aer simulator)\n",
    "backend = AerStateBackend()\n",
    "\n",
    "# Define the number of qubits in the system\n",
    "n_qubits = 4\n",
    "\n",
    "# Generate the transverse field Ising Hamiltonian with interaction strength J_ZZ = 1.2\n",
    "ising_ham = get_transverse_field_ising_hamiltonian(n_qubits, J_ZZ=1.2)\n",
    "\n",
    "# Set the total simulation time for time evolution\n",
    "t_trotterization = 1\n",
    "\n",
    "# Define the number of Trotter steps to be tested (from 1 to 201 in steps of 20)\n",
    "n_trotter_steps = list(range(1, 202, 20))\n",
    "\n",
    "# Initialize lists to store the error values for first-order and second-order Trotterization\n",
    "error_first_order = []\n",
    "error_second_order = []\n",
    "\n",
    "# Loop over different numbers of Trotter steps\n",
    "for nts in n_trotter_steps:\n",
    "\n",
    "    # Compute the exact time evolution using matrix exponentiation\n",
    "    time_evolution = hamiltonian_time_evolution_numpy(ising_ham, t_trotterization, n_qubits)\n",
    "\n",
    "    # Initialize the quantum state as |0...0> (ground state)\n",
    "    initial_state = np.zeros(2**n_qubits)\n",
    "    initial_state[0] = 1\n",
    "\n",
    "    # Compute the exact evolved state: |ψ(t)⟩ = U(t) |ψ(0)⟩\n",
    "    time_evolved_state = time_evolution @ initial_state\n",
    "\n",
    "    # Generate first-order and second-order Trotterization circuits\n",
    "    first_order_trotterization = get_first_order_trotterization(ising_ham, n_qubits, t_trotterization, nts)\n",
    "    second_order_trotterization = get_second_order_trotterization(ising_ham, n_qubits, t_trotterization, nts)\n",
    "\n",
    "    # Compile the circuits to optimize for the backend\n",
    "    first_order_trotterization_compiled = backend.get_compiled_circuit(\n",
    "        first_order_trotterization.get_circuit(), optimisation_level=0\n",
    "    )\n",
    "    second_order_trotterization_compiled = backend.get_compiled_circuit(\n",
    "        second_order_trotterization.get_circuit(), optimisation_level=0\n",
    "    )\n",
    "\n",
    "    # Execute the first-order Trotterized circuit and retrieve the final state vector\n",
    "    state_handle = backend.process_circuit(first_order_trotterization_compiled)\n",
    "    vec_first_order = backend.get_result(state_handle).get_state()\n",
    "\n",
    "    # Execute the second-order Trotterized circuit and retrieve the final state vector\n",
    "    state_handle = backend.process_circuit(second_order_trotterization_compiled)\n",
    "    vec_second_order = backend.get_result(state_handle).get_state()\n",
    "\n",
    "    # Compute the maximum absolute error between exact and Trotterized evolution for both orders\n",
    "    error_first_order.append(np.max(np.abs(time_evolved_state - vec_first_order)))\n",
    "    error_second_order.append(np.max(np.abs(time_evolved_state - vec_second_order)))"
   ]
  },
  {
   "cell_type": "code",
   "execution_count": null,
   "metadata": {},
   "outputs": [],
   "source": [
    "# Showing the results\n",
    "fig, ax = plt.subplots(figsize=(6,4))\n",
    "ax.plot(n_trotter_steps, error_first_order, label=\"1st order\")\n",
    "ax.plot(n_trotter_steps, error_second_order, label=\"2nd order\")\n",
    "ax.set_xlabel(\"Number of Trotter steps\")\n",
    "ax.set_ylabel(\"Trotter error\")\n",
    "ax.set_xscale(\"log\")\n",
    "ax.set_yscale(\"log\")\n",
    "ax.legend()\n",
    "ax.grid()\n",
    "plt.show()"
   ]
  },
  {
   "cell_type": "markdown",
   "metadata": {},
   "source": [
    "### Task 3: Do the same for the XXZ model\n",
    "\n",
    "What would you expect. Why is there no Trotter error?"
   ]
  },
  {
   "cell_type": "code",
   "execution_count": null,
   "metadata": {},
   "outputs": [],
   "source": [
    "# Initialize the quantum backend \n",
    "backend = AerStateBackend()\n",
    "\n",
    "# Define the number of qubits in the system\n",
    "n_qubits = 4  \n",
    "\n",
    "# Generate the XXZ chain Hamiltonian with Delta_ZZ = 1.2\n",
    "# This Hamiltonian includes XX, YY, and ZZ interactions between neighboring qubits\n",
    "ising_ham = get_xxz_chain_hamiltonian(n_qubits, Delta_ZZ=1.2)\n",
    "\n",
    "# Set the total simulation time for time evolution\n",
    "t_trotterization = 1  \n",
    "\n",
    "# Define a list of Trotter steps ranging from 1 to 201 in increments of 20\n",
    "# These values will be used to analyze the error introduced by Trotterization\n",
    "n_trotter_steps = list(range(1, 202, 20))"
   ]
  },
  {
   "cell_type": "code",
   "execution_count": null,
   "metadata": {},
   "outputs": [],
   "source": [
    "# Lists to store Trotterization errors for first and second-order methods\n",
    "error_first_order = []\n",
    "error_second_order = []\n",
    "\n",
    "# Loop over different numbers of Trotter steps\n",
    "for nts in n_trotter_steps:\n",
    "\n",
    "    # Compute the exact time evolution using matrix exponentiation\n",
    "    time_evolution = hamiltonian_time_evolution_numpy(ising_ham, t_trotterization, n_qubits)\n",
    "\n",
    "    # Initialize the quantum state |0...0>\n",
    "    initial_state = np.zeros(2**n_qubits)\n",
    "    initial_state[0] = 1\n",
    "\n",
    "    # Compute the exact evolved state: |ψ(t)⟩ = U(t) |ψ(0)⟩\n",
    "    time_evolved_state = time_evolution @ initial_state\n",
    "\n",
    "    # Generate first-order and second-order Trotterization circuits\n",
    "    first_order_trotterization = get_first_order_trotterization(ising_ham, n_qubits, t_trotterization, nts)\n",
    "    second_order_trotterization = get_second_order_trotterization(ising_ham, n_qubits, t_trotterization, nts)\n",
    "\n",
    "    # Compile the circuits for execution\n",
    "    first_order_trotterization_compiled = backend.get_compiled_circuit(\n",
    "        first_order_trotterization.get_circuit(), optimisation_level=0\n",
    "    )\n",
    "    second_order_trotterization_compiled = backend.get_compiled_circuit(\n",
    "        second_order_trotterization.get_circuit(), optimisation_level=0\n",
    "    )\n",
    "\n",
    "    # Execute the circuits and retrieve the resulting quantum states\n",
    "    state_handle = backend.process_circuit(first_order_trotterization_compiled)\n",
    "    vec_first_order = backend.get_result(state_handle).get_state()\n",
    "    state_handle = backend.process_circuit(second_order_trotterization_compiled)\n",
    "    vec_second_order = backend.get_result(state_handle).get_state()\n",
    "\n",
    "    # Compute the maximum absolute error compared to the exact evolution\n",
    "    error_first_order.append(np.max(np.abs(time_evolved_state - vec_first_order)))\n",
    "    error_second_order.append(np.max(np.abs(time_evolved_state - vec_second_order)))"
   ]
  },
  {
   "cell_type": "code",
   "execution_count": null,
   "metadata": {},
   "outputs": [],
   "source": [
    "# Showing the results\n",
    "fig, ax = plt.subplots(figsize = (6,4))\n",
    "ax.plot(n_trotter_steps, error_first_order, label=\"1st order\")\n",
    "ax.plot(n_trotter_steps, error_second_order, label=\"2nd order\")\n",
    "ax.set_xlabel(\"Number of Trotter steps\")\n",
    "ax.set_ylabel(\"Trotter error\")\n",
    "ax.set_xscale(\"log\")\n",
    "ax.set_yscale(\"log\")\n",
    "ax.legend()\n",
    "ax.grid()"
   ]
  },
  {
   "cell_type": "markdown",
   "metadata": {},
   "source": [
    "### Task 4: Influence of noise\n",
    "\n",
    "As a next step, we study the influence of noise. Using Quantinuum noise models, we can simulate the circuit under approximately realistic conditions. We focus on the transverse field Ising model in the following.\n",
    "\n",
    "In general, there will be a trade-off between Trotter error and noise. Smaller Trotter steps will reduce the Trotter error but also increase the circuit complexity, e.g. the number of two-qubit gates. This will generally increase errors coming from the noisy hardware.\n",
    "\n",
    "Explore this trade-off by simulating the Trotter circuit for varied Trotter step sizes and noise parameters."
   ]
  },
  {
   "cell_type": "code",
   "execution_count": null,
   "metadata": {},
   "outputs": [],
   "source": []
  },
  {
   "cell_type": "markdown",
   "metadata": {},
   "source": [
    "### Task 5: Other Hamiltonians\n",
    "\n",
    "You can try to implement other Hamiltonians you can find in the literature."
   ]
  },
  {
   "cell_type": "code",
   "execution_count": null,
   "metadata": {},
   "outputs": [],
   "source": []
  },
  {
   "cell_type": "markdown",
   "metadata": {},
   "source": [
    "## Section 2: Simulating quantum systems\n",
    "\n",
    "In the following we study several physically interesting cases of quantum system dynamics for the XXZ Hamiltonian."
   ]
  },
  {
   "cell_type": "markdown",
   "metadata": {},
   "source": [
    "Let's first define our Hamiltonian again. We focus on the XXZ Heisenberg model here."
   ]
  },
  {
   "cell_type": "code",
   "execution_count": null,
   "metadata": {},
   "outputs": [],
   "source": [
    "aer_sim = AerBackend()\n",
    "n_qubits = 5\n",
    "Delta_ZZ = 1.72\n",
    "\n",
    "xxz_ham = get_xxz_chain_hamiltonian(n_qubits=n_qubits, Delta_ZZ=Delta_ZZ)\n",
    "print(xxz_ham)"
   ]
  },
  {
   "cell_type": "markdown",
   "metadata": {},
   "source": [
    "### Task 1: Energy conservation\n",
    "\n",
    "The expectation value of the Hamiltonian $H$ gives the energy of the system. This energy does not change during unitary time evolution of the system, i.e. if the initial state has energy $E$, the energy of the system will be $E$ for all times.\n",
    "\n",
    "Below we will test how good our Trotterized circuit fulfills energy conservation."
   ]
  },
  {
   "cell_type": "markdown",
   "metadata": {},
   "source": [
    "We start by computing the energy of the initial zero state $\\ket{\\psi} = \\ket{0}^{\\otimes N}$. This is the default initial state if one generates an empty circuit without any further gates. We compute the expectation of $H$ using the `pytket` function `get_operator_expectation_value`. For simulating the (empty) circuit simulation we use the AerBackend and choose 1000 shots. The expectation value of any Hermitian operator is real. Because we are doing numerics, there might be a negligible imaginary part of order machine precision, which we can just discard."
   ]
  },
  {
   "cell_type": "code",
   "execution_count": null,
   "metadata": {},
   "outputs": [],
   "source": [
    "n_qubits = 5\n",
    "n_shots = 1000\n",
    "\n",
    "initial_state_circtuit = Circuit(n_qubits=n_qubits, name=\"Initial state\")\n",
    "energy = get_operator_expectation_value(initial_state_circtuit, xxz_ham, aer_sim, n_shots=n_shots)\n",
    "print(\"Energy:\", energy.real)"
   ]
  },
  {
   "cell_type": "markdown",
   "metadata": {},
   "source": [
    "Test how the energy is changing if you apply a few simple gates before you compute the expectation value with `get_operator_expectation_value`."
   ]
  },
  {
   "cell_type": "markdown",
   "metadata": {},
   "source": [
    "### Solution (Task 1: Testing):"
   ]
  },
  {
   "cell_type": "code",
   "execution_count": null,
   "metadata": {},
   "outputs": [],
   "source": [
    "# Apply an X gate on the first qubit and an H gate on the second qubit before computing expectation value\n",
    "modified_state_circuit = Circuit(n_qubits=n_qubits, name=\"Modified state\")\n",
    "modified_state_circuit.X(0)  # Flip first qubit\n",
    "modified_state_circuit.H(1)  # Put second qubit into superposition\n",
    "\n",
    "# Compute the expectation value with the modified state\n",
    "modified_energy = get_operator_expectation_value(modified_state_circuit, xxz_ham, aer_sim, n_shots=n_shots)\n",
    "\n",
    "print(\"Modified Energy:\", modified_energy.real)"
   ]
  },
  {
   "cell_type": "markdown",
   "metadata": {},
   "source": [
    "### Discussions (Our thoughts)\n",
    "The energy of the system changed significantly from **6.81** to **3.41** when applying an **X gate on the first qubit** and an **H gate on the second qubit** before measuring the expectation value. This suggests that the system's initial energy is highly dependent on its quantum state configuration.\n",
    "\n",
    "The **initial zero state** $|0\\rangle^{\\otimes N}$ is an eigenstate of the XXZ Hamiltonian, meaning its energy remains conserved under unitary evolution. However, applying the **X and H gates** introduces superpositions and flips certain spin states, leading to a redistribution of the energy eigenvalues across the system. The Hadamard gate, in particular, introduces equal superpositions of $ |0\\rangle $ and $ |1\\rangle$, altering the contributions from the $XX, YY,$ and $ZZ$ interaction terms in the Hamiltonian.\n",
    "\n",
    "This confirms that while **energy is conserved under time evolution**, it is **not invariant under changes to the initial state**, as expected from quantum mechanics.\n"
   ]
  },
  {
   "cell_type": "markdown",
   "metadata": {},
   "source": [
    "Next we check if the energy is conserved under system evolution.\n",
    "- Use `t_max = 20`, discretize the interval `[1, t_max]` into several steps, e.g. `times = np.linspace(1, 20, 5)`, and generate the time evolution circuit for each `t` in `times`. You can use e.g. $\\Delta t = 3$.\n",
    "- Use `time_evolution_circ_compiled = aer_sim.get_compiled_circuit(time_evolution_circ, optimisation_level = 2)` to compile and optimize the circuit. Optimization will result in shorter simulation times.\n",
    "- Monitor the number of two-qubit gates of the compiled and uncompiled circuits as you change `t`. You get this number in pytket via `circ.2_qb_gates()`.\n",
    "- Compute the energy expectation at the output of each of those circuits. You can use a smaller number of shots, e.g. `n_shots = 100`, for this.\n",
    "- Plot the obtained energy expectation values against `times`.\n",
    "\n",
    "Hints:\n",
    "- To get two-qubit gate counts of the uncompiled circuit, you will probably need to decompose all boxes with `DecomposeBoxes().apply(time_evolution_circ)` before getting the gate count with `time_evolution_circ.n_2qb_gates()`.\n",
    "- As you will see, the optimization during compilation significantly reduces the two-qubit gate count. This will reduce the time it requires to simulate the circuit classically. Therefore, it is usually a good idea to optimize circuits before running them on either a classical simulator or actual quantum hardware.\n",
    "- You can also monitor the time to compute the expectation values for varied `t`. Plot these timings and the number of two-qubit gates versus `times`.\n",
    "- The energy expectation should roughly be the same for each `t` in `times`, i.e. stay constant."
   ]
  },
  {
   "cell_type": "code",
   "execution_count": null,
   "metadata": {},
   "outputs": [],
   "source": [
    "t_max = 20\n",
    "times = np.linspace(1, t_max, 5) \n",
    "trotter_step_size = 3 \n",
    "n_shots = 100  # Reduced number of shots for faster computation\n",
    "\n",
    "# Store results\n",
    "energy_expectations = []\n",
    "gate_counts_uncompiled = []\n",
    "gate_counts_compiled = []\n",
    "computation_times = []"
   ]
  },
  {
   "cell_type": "code",
   "execution_count": null,
   "metadata": {},
   "outputs": [],
   "source": [
    "# Loop over different time steps\n",
    "for t in times:\n",
    "    # Generate the time evolution circuit with Trotter step size\n",
    "    time_evolution_circ = xxz_time_evolution(n_qubits, t / trotter_step_size, Delta_ZZ)\n",
    "\n",
    "    # Get uncompiled two-qubit gate count\n",
    "    uncompiled_circ = time_evolution_circ.copy()\n",
    "    DecomposeBoxes().apply(uncompiled_circ)\n",
    "    gate_counts_uncompiled.append(uncompiled_circ.n_2qb_gates())\n",
    "\n",
    "    # Compile and optimize the circuit\n",
    "    start_time = time.time()\n",
    "    time_evolution_circ_compiled = aer_sim.get_compiled_circuit(time_evolution_circ, optimisation_level=2)\n",
    "    gate_counts_compiled.append(time_evolution_circ_compiled.n_2qb_gates())\n",
    "\n",
    "    # Compute energy expectation value\n",
    "    energy = get_operator_expectation_value(time_evolution_circ_compiled, xxz_ham, aer_sim, n_shots=n_shots)\n",
    "    energy_expectations.append(energy.real)\n",
    "\n",
    "    # Store computation time\n",
    "    computation_times.append(time.time() - start_time)\n"
   ]
  },
  {
   "cell_type": "code",
   "execution_count": null,
   "metadata": {},
   "outputs": [],
   "source": [
    "# Compute standard deviation of energy expectation values\n",
    "energy_std = np.std(energy_expectations)\n",
    "\n",
    "# Plot energy expectation values with standard deviation in the legend\n",
    "plt.figure(figsize=(10, 5))\n",
    "plt.plot(times, energy_expectations, 'o-', label=f\"Energy Expectation (std: {energy_std:.4f})\")\n",
    "plt.xlabel(\"Time (t)\")\n",
    "plt.ylabel(\"Energy Expectation Value\")\n",
    "plt.title(\"Energy Expectation Over Time Evolution\")\n",
    "plt.legend()\n",
    "plt.grid()\n",
    "plt.show()"
   ]
  },
  {
   "cell_type": "markdown",
   "metadata": {},
   "source": [
    "### Discussion-1\n",
    "Although the pattern looks like there is a lot of change in the expectation value, we can note from the $y$-axis that the changes are around $\\pm$0.05 or less. "
   ]
  },
  {
   "cell_type": "code",
   "execution_count": null,
   "metadata": {},
   "outputs": [],
   "source": [
    "# Plot two-qubit gate counts before and after compilation\n",
    "plt.figure(figsize=(10, 5))\n",
    "plt.plot(times, gate_counts_uncompiled, 'o-', label=\"Uncompiled Two-Qubit Gates\")\n",
    "plt.plot(times, gate_counts_compiled, 's-', label=\"Compiled Two-Qubit Gates\")\n",
    "plt.xlabel(\"Time (t)\")\n",
    "plt.ylabel(\"Number of Two-Qubit Gates\")\n",
    "plt.title(\"Two-Qubit Gate Count Before and After Compilation\")\n",
    "plt.legend()\n",
    "plt.grid()\n",
    "plt.show()"
   ]
  },
  {
   "cell_type": "markdown",
   "metadata": {},
   "source": [
    "### Discussion-2\n",
    "As expected, the two-qubit gate count is significantly reduced after compilation. We can see the good happening..."
   ]
  },
  {
   "cell_type": "code",
   "execution_count": null,
   "metadata": {},
   "outputs": [],
   "source": [
    "# Plot computation time\n",
    "plt.figure(figsize=(10, 5))\n",
    "plt.plot(times, computation_times, 'o-', label=\"Computation Time\")\n",
    "plt.xlabel(\"Time (t)\")\n",
    "plt.ylabel(\"Time (seconds)\")\n",
    "plt.title(\"Computation Time for Energy Expectation Evaluation\")\n",
    "plt.legend()\n",
    "plt.grid()\n",
    "plt.show()"
   ]
  },
  {
   "cell_type": "markdown",
   "metadata": {},
   "source": [
    "### Task 2: Influence of noise\n",
    "\n",
    "Study how hardware noise, emulated with e.g. the Quantinuum noise models, affects the results."
   ]
  },
  {
   "cell_type": "code",
   "execution_count": null,
   "metadata": {},
   "outputs": [],
   "source": []
  },
  {
   "cell_type": "markdown",
   "metadata": {},
   "source": [
    "### Task 3: Hamiltonian system dynamics\n",
    "\n",
    "Compute time dependent expectation values for other observable, for example $X^{(i)}$ for one of the qubits $i$, or a correlator $X^{(i)} X^{(j)}$. Would you expect these expectation values to vary in time?"
   ]
  },
  {
   "cell_type": "code",
   "execution_count": null,
   "metadata": {},
   "outputs": [],
   "source": [
    "# Define observables: Single-qubit X expectation for qubit 0\n",
    "X_0 = QubitPauliOperator({QubitPauliString([Qubit(0)], [Pauli.X]): 1.0})\n",
    "\n",
    "# Define observable: Two-qubit correlator X_0 X_1\n",
    "X_0_X_1 = QubitPauliOperator({QubitPauliString([Qubit(0), Qubit(1)], [Pauli.X, Pauli.X]): 1.0})\n",
    "\n",
    "# Define time evolution parameters\n",
    "t_max = 20\n",
    "times = np.linspace(1, t_max, 20)  # More fine-grained time evolution\n",
    "trotter_step_size = 3\n",
    "n_shots = 100"
   ]
  },
  {
   "cell_type": "code",
   "execution_count": null,
   "metadata": {},
   "outputs": [],
   "source": [
    "# Store results\n",
    "X_expectations = []\n",
    "XX_expectations = []\n",
    "\n",
    "# Compute expectation values for each time step\n",
    "for t in times:\n",
    "    # Generate the time evolution circuit\n",
    "    time_evolution_circ = xxz_time_evolution(n_qubits, t / trotter_step_size, Delta_ZZ)\n",
    "\n",
    "    # Compile the circuit\n",
    "    time_evolution_circ_compiled = aer_sim.get_compiled_circuit(time_evolution_circ, optimisation_level=2)\n",
    "\n",
    "    # Compute expectation values\n",
    "    X_exp = get_operator_expectation_value(time_evolution_circ_compiled, X_0, aer_sim, n_shots=n_shots).real\n",
    "    XX_exp = get_operator_expectation_value(time_evolution_circ_compiled, X_0_X_1, aer_sim, n_shots=n_shots).real\n",
    "\n",
    "    X_expectations.append(X_exp)\n",
    "    XX_expectations.append(XX_exp)"
   ]
  },
  {
   "cell_type": "code",
   "execution_count": null,
   "metadata": {},
   "outputs": [],
   "source": [
    "# Plot X and XX expectation values over time with finer resolution\n",
    "plt.figure(figsize=(10, 5))\n",
    "plt.plot(times, X_expectations, 'o-', label=\"X Expectation (Qubit 0)\")\n",
    "plt.plot(times, XX_expectations, 's-', label=\"X_0 X_1 Expectation\")\n",
    "plt.xlabel(\"Time (t)\")\n",
    "plt.ylabel(\"Expectation Value\")\n",
    "plt.title(\"Time Evolution of X and X_0 X_1 Correlator (More Time Steps)\")\n",
    "plt.legend()\n",
    "plt.grid()\n",
    "plt.show()"
   ]
  },
  {
   "cell_type": "markdown",
   "metadata": {},
   "source": [
    "### Task 4: Hamiltonian system dynamics\n",
    "\n",
    "Diagonalise the Hamiltonian numerically and obtain two eigenstates with different energies, for example take eigenstates of the two lowest energy levels. Use build-in functionality, such as pytket's `StatePreparationBox` to prepare a uniform superposition $\\ket{\\psi}$ of both states with a quantum circuit.\n",
    "\n",
    "Simulate the time evolution of the expectation value of $Z_i$ (or any other easy observable) with $\\ket{\\psi}$ as initial state, and plot the time evolution. What do you expect? How does the frequency of oscillation relate to the energy levels of the Hamiltonian?"
   ]
  },
  {
   "cell_type": "markdown",
   "metadata": {},
   "source": [
    "### Solution: (Diagonlize part)\n",
    "We used numpy to do an Exact Diagonalization (ED) of the Hamiltonian and `StatePreparationBox` to make the superposition following the documentation."
   ]
  },
  {
   "cell_type": "code",
   "execution_count": null,
   "metadata": {},
   "outputs": [],
   "source": [
    "# Get the Hamiltonian matrix\n",
    "hamiltonian_matrix = xxz_ham.to_sparse_matrix().toarray()\n",
    "\n",
    "# Diagonalize the Hamiltonian to obtain eigenvalues and eigenvectors\n",
    "eigenvalues, eigenvectors = eigh(hamiltonian_matrix)\n",
    "\n",
    "# Print the ground state eigenvector\n",
    "print(\"Ground state eigenvector:\\n\", eigenvectors[:, 0])"
   ]
  },
  {
   "cell_type": "code",
   "execution_count": null,
   "metadata": {},
   "outputs": [],
   "source": [
    "# Plot eigenvalues (energy levels) of the Hamiltonian\n",
    "plt.figure(figsize=(8, 5))\n",
    "plt.plot(range(len(eigenvalues)), eigenvalues, 'o-', label=\"Eigenvalues (Energy Levels)\")\n",
    "plt.xlabel(\"Eigenstate Index\")\n",
    "plt.ylabel(\"Energy\")\n",
    "plt.title(\"Energy Spectrum of the XXZ Hamiltonian\")\n",
    "plt.legend()\n",
    "plt.grid()\n",
    "plt.show()"
   ]
  },
  {
   "cell_type": "markdown",
   "metadata": {},
   "source": [
    "### Solution (Superposed State Preparation Part)"
   ]
  },
  {
   "cell_type": "code",
   "execution_count": null,
   "metadata": {},
   "outputs": [],
   "source": [
    "# Select the two lowest energy eigenstates\n",
    "ground_state = eigenvectors[:, 0]\n",
    "first_excited_state = eigenvectors[:, 1]\n",
    "\n",
    "# Create a uniform superposition of the two states\n",
    "psi = (ground_state + first_excited_state) / np.sqrt(2)\n",
    "\n",
    "# Ensure the state is normalized\n",
    "psi /= np.linalg.norm(psi)\n",
    "\n",
    "# Use StatePreparationBox to prepare this state\n",
    "prep_box = StatePreparationBox(psi)\n",
    "\n",
    "# Create a circuit and add the state preparation\n",
    "prep_circuit = Circuit(n_qubits)\n",
    "prep_circuit.add_gate(prep_box, [i for i in range(n_qubits)])\n",
    "\n",
    "# Get the decomposed circuit\n",
    "decomposed_circuit = prep_box.get_circuit()\n",
    "\n",
    "# Draw the decomposed state preparation circuit\n",
    "draw(decomposed_circuit)\n"
   ]
  },
  {
   "cell_type": "markdown",
   "metadata": {},
   "source": [
    "### Solution (Expectation Value Part/Simulate Time Evolution)"
   ]
  },
  {
   "cell_type": "code",
   "execution_count": null,
   "metadata": {},
   "outputs": [],
   "source": [
    "# Define observable: Single-qubit Z expectation for qubit 0\n",
    "Z_0 = QubitPauliOperator({QubitPauliString([Qubit(0)], [Pauli.Z]): 1.0})\n",
    "\n",
    "# Define time evolution parameters\n",
    "t_max = 20\n",
    "times = np.linspace(1, t_max, 20)\n",
    "trotter_step_size = 3\n",
    "n_shots = 100\n",
    "\n",
    "# Store expectation values\n",
    "Z_expectations = []\n",
    "\n",
    "# Compute expectation values for each time step\n",
    "for t in times:\n",
    "    # Generate the time evolution circuit\n",
    "    time_evolution_circ = xxz_time_evolution(n_qubits, t / trotter_step_size, Delta_ZZ)\n",
    "\n",
    "    # Initialize the system in state |ψ>\n",
    "    psi_prep_circuit = Circuit(n_qubits)\n",
    "    psi_prep_circuit.add_gate(prep_box, [i for i in range(n_qubits)])  # Use add_gate instead of add_box\n",
    "\n",
    "\n",
    "    # Append time evolution circuit\n",
    "    psi_prep_circuit.append(time_evolution_circ)\n",
    "\n",
    "    # Compile the circuit\n",
    "    psi_prep_circuit_compiled = aer_sim.get_compiled_circuit(psi_prep_circuit, optimisation_level=2)\n",
    "\n",
    "    # Compute expectation values\n",
    "    Z_exp = get_operator_expectation_value(psi_prep_circuit_compiled, Z_0, aer_sim, n_shots=n_shots).real\n",
    "    Z_expectations.append(Z_exp)"
   ]
  },
  {
   "cell_type": "code",
   "execution_count": null,
   "metadata": {},
   "outputs": [],
   "source": [
    "# Plot Z expectation values over time\n",
    "plt.figure(figsize=(10, 5))\n",
    "plt.plot(times, Z_expectations, 'o-', label=\"Z Expectation (Qubit 0)\")\n",
    "plt.xlabel(\"Time (t)\")\n",
    "plt.ylabel(\"Expectation Value\")\n",
    "plt.title(\"Time Evolution of Z Expectation with Initial State |ψ⟩\")\n",
    "plt.legend()\n",
    "plt.grid()\n",
    "plt.show()"
   ]
  },
  {
   "cell_type": "markdown",
   "metadata": {},
   "source": [
    "We investigated the time evolution of ⟨Z⟩ with the initial state $|\\psi\\rangle$, a superposition of the two lowest energy eigenstates of the XXZ Hamiltonian, where the oscillation frequency is determined by the energy gap $\\omega = \\frac{E_1 - E_0}{2\\pi}$. To verify this, we performed a Fourier Transform on ⟨Z⟩ and found that the dominant frequency closely matches the theoretical prediction, confirming that the oscillation arises from phase accumulation between eigenstates. While the Quantum Fourier Transform (QFT) could provide an alternative quantum approach, our use of the classical Fourier Transform (FFT) remains the most efficient and practical for analyzing measurement outcomes from a classical quantum simulation.\n"
   ]
  },
  {
   "cell_type": "code",
   "execution_count": null,
   "metadata": {},
   "outputs": [],
   "source": [
    "# Compute the frequency of oscillation from the energy difference\n",
    "energy_difference = eigenvalues[1] - eigenvalues[0]  # E_1 - E_0\n",
    "expected_frequency = energy_difference / (2 * np.pi)  # Convert to frequency\n",
    "\n",
    "# Compute Fourier Transform of the time evolution data\n",
    "Z_spectrum = np.fft.fft(Z_expectations)\n",
    "frequencies = np.fft.fftfreq(len(times), d=(times[1] - times[0]))\n",
    "\n",
    "# Plot the Fourier spectrum of the oscillations\n",
    "plt.figure(figsize=(10, 5))\n",
    "plt.plot(frequencies, np.abs(Z_spectrum), 'o-', label=\"Fourier Spectrum of ⟨Z⟩\")\n",
    "plt.axvline(x=expected_frequency, color='r', linestyle=\"--\", label=f\"Expected Frequency: {expected_frequency:.4f}\")\n",
    "plt.xlabel(\"Frequency\")\n",
    "plt.ylabel(\"Amplitude\")\n",
    "plt.title(\"Fourier Transform of Z Expectation Oscillations\")\n",
    "plt.legend()\n",
    "plt.grid()\n",
    "plt.show()\n",
    "\n",
    "# Print expected and observed frequencies\n",
    "dominant_frequency = frequencies[np.argmax(np.abs(Z_spectrum))]\n",
    "print(f\"Expected Frequency from Energy Difference: {expected_frequency:.4f}\")\n",
    "print(f\"Observed Dominant Frequency: {dominant_frequency:.4f}\")"
   ]
  },
  {
   "cell_type": "markdown",
   "metadata": {},
   "source": [
    "### Discussion of Fourier Transform Results\n",
    "\n",
    "The Fourier transform of ⟨Z⟩ shows a dominant frequency of **0.4000**, while the expected frequency from the energy gap is **0.0000**, suggesting that the assumed gap is too small to induce significant oscillations. The presence of a nonzero dominant frequency implies that higher energy levels contribute to the system’s dynamics, potentially due to Trotterization error or additional eigenstate mixing. The broad spectrum further indicates that multiple eigenstates influence the evolution, warranting further analysis of initial state preparation and step size refinement.\n",
    "\n"
   ]
  },
  {
   "cell_type": "markdown",
   "metadata": {},
   "source": [
    "### Task 5: Time evolution of the Ising model\n",
    "\n",
    "You can explore the above tasks for the Ising model instead of the XXZ model. Since the Ising model suffers Trotterization error, you might find that this model conserves energy less accurate as the XXZ model."
   ]
  },
  {
   "cell_type": "markdown",
   "metadata": {},
   "source": [
    "### Solution:\n",
    "\n",
    "We just copy paste the previous code and change the variables as needed."
   ]
  },
  {
   "cell_type": "code",
   "execution_count": null,
   "metadata": {},
   "outputs": [],
   "source": [
    "# Construct the Ising Hamiltonian\n",
    "def get_ising_chain_hamiltonian(n_qubits: int, J: float, h: float) -> QubitPauliOperator:\n",
    "    sites = nx.path_graph(n_qubits)\n",
    "    qpo_dict = {}\n",
    "    for e in sites.edges:\n",
    "        zz_term = QubitPauliString([Qubit(e[0]), Qubit(e[1])], [Pauli.Z, Pauli.Z])\n",
    "        qpo_dict[zz_term] = J  # Interaction term\n",
    "\n",
    "    for i in range(n_qubits):\n",
    "        x_term = QubitPauliString([Qubit(i)], [Pauli.X])\n",
    "        qpo_dict[x_term] = h  # Transverse field term\n",
    "\n",
    "    return QubitPauliOperator(qpo_dict)\n",
    "\n",
    "# Define Ising model parameters\n",
    "n_qubits = 5\n",
    "J = 1.0  # Interaction strength\n",
    "h = 0.5  # Transverse field strength\n",
    "\n",
    "# Get the Ising Hamiltonian\n",
    "ising_ham = get_ising_chain_hamiltonian(n_qubits, J, h)\n",
    "\n",
    "print(ising_ham)"
   ]
  },
  {
   "cell_type": "code",
   "execution_count": null,
   "metadata": {},
   "outputs": [],
   "source": [
    "# Define time evolution parameters\n",
    "t_max = 20\n",
    "times = np.linspace(1, t_max, 20)\n",
    "trotter_step_size = 3\n",
    "n_shots = 100\n",
    "\n",
    "# Store results\n",
    "energy_expectations = []\n",
    "gate_counts_uncompiled = []\n",
    "gate_counts_compiled = []\n",
    "computation_times = []\n",
    "\n",
    "# Compute energy conservation over time evolution\n",
    "for t in times:\n",
    "    # Generate the time evolution circuit\n",
    "    time_evolution_circ = xxz_time_evolution(n_qubits, t / trotter_step_size, J)\n",
    "\n",
    "    # Get uncompiled two-qubit gate count\n",
    "    uncompiled_circ = time_evolution_circ.copy()\n",
    "    DecomposeBoxes().apply(uncompiled_circ)\n",
    "    gate_counts_uncompiled.append(uncompiled_circ.n_2qb_gates())\n",
    "\n",
    "    # Compile the circuit\n",
    "    start_time = time.time()\n",
    "    time_evolution_circ_compiled = aer_sim.get_compiled_circuit(time_evolution_circ, optimisation_level=2)\n",
    "    gate_counts_compiled.append(time_evolution_circ_compiled.n_2qb_gates())\n",
    "\n",
    "    # Compute energy expectation value\n",
    "    energy = get_operator_expectation_value(time_evolution_circ_compiled, ising_ham, aer_sim, n_shots=n_shots)\n",
    "    energy_expectations.append(energy.real)\n",
    "\n",
    "    # Store computation time\n",
    "    computation_times.append(time.time() - start_time)"
   ]
  },
  {
   "cell_type": "code",
   "execution_count": null,
   "metadata": {},
   "outputs": [],
   "source": [
    "# Compute standard deviation of energy expectation values\n",
    "energy_std = np.std(energy_expectations)\n",
    "\n",
    "# Plot energy expectation values with standard deviation in the legend\n",
    "plt.figure(figsize=(10, 5))\n",
    "plt.plot(times, energy_expectations, 'o-', label=f\"Energy Expectation (std: {energy_std:.4f})\")\n",
    "plt.xlabel(\"Time (t)\")\n",
    "plt.ylabel(\"Energy Expectation Value\")\n",
    "plt.title(\"Energy Expectation Over Time Evolution (Ising Model)\")\n",
    "plt.legend()\n",
    "plt.grid()\n",
    "plt.show()\n"
   ]
  },
  {
   "cell_type": "code",
   "execution_count": null,
   "metadata": {},
   "outputs": [],
   "source": [
    "# Plot two-qubit gate counts before and after compilation\n",
    "plt.figure(figsize=(10, 5))\n",
    "plt.plot(times, gate_counts_uncompiled, 'o-', label=\"Uncompiled Two-Qubit Gates\")\n",
    "plt.plot(times, gate_counts_compiled, 's-', label=\"Compiled Two-Qubit Gates\")\n",
    "plt.xlabel(\"Time (t)\")\n",
    "plt.ylabel(\"Number of Two-Qubit Gates\")\n",
    "plt.title(\"Two-Qubit Gate Count Before and After Compilation (Ising Model)\")\n",
    "plt.legend()\n",
    "plt.grid()\n",
    "plt.show()"
   ]
  },
  {
   "cell_type": "code",
   "execution_count": null,
   "metadata": {},
   "outputs": [],
   "source": [
    "# Plot computation time\n",
    "plt.figure(figsize=(10, 5))\n",
    "plt.plot(times, computation_times, 'o-', label=\"Computation Time\")\n",
    "plt.xlabel(\"Time (t)\")\n",
    "plt.ylabel(\"Time (seconds)\")\n",
    "plt.title(\"Computation Time for Energy Expectation Evaluation (Ising Model)\")\n",
    "plt.legend()\n",
    "plt.grid()\n",
    "plt.show()"
   ]
  },
  {
   "cell_type": "code",
   "execution_count": null,
   "metadata": {},
   "outputs": [],
   "source": [
    "# Define observables: Single-qubit X expectation for qubit 0\n",
    "X_0 = QubitPauliOperator({QubitPauliString([Qubit(0)], [Pauli.X]): 1.0})\n",
    "\n",
    "# Define observable: Two-qubit correlator X_0 X_1\n",
    "X_0_X_1 = QubitPauliOperator({QubitPauliString([Qubit(0), Qubit(1)], [Pauli.X, Pauli.X]): 1.0})\n",
    "\n",
    "# Store results\n",
    "X_expectations = []\n",
    "XX_expectations = []\n",
    "\n",
    "# Compute expectation values for each time step\n",
    "for t in times:\n",
    "    # Generate the time evolution circuit for the Ising model\n",
    "    time_evolution_circ = xxz_time_evolution(n_qubits, t / trotter_step_size, J)\n",
    "\n",
    "    # Compile the circuit\n",
    "    time_evolution_circ_compiled = aer_sim.get_compiled_circuit(time_evolution_circ, optimisation_level=2)\n",
    "\n",
    "    # Compute expectation values\n",
    "    X_exp = get_operator_expectation_value(time_evolution_circ_compiled, X_0, aer_sim, n_shots=n_shots).real\n",
    "    XX_exp = get_operator_expectation_value(time_evolution_circ_compiled, X_0_X_1, aer_sim, n_shots=n_shots).real\n",
    "\n",
    "    X_expectations.append(X_exp)\n",
    "    XX_expectations.append(XX_exp)"
   ]
  },
  {
   "cell_type": "code",
   "execution_count": null,
   "metadata": {},
   "outputs": [],
   "source": [
    "# Plot X and XX expectation values over time\n",
    "plt.figure(figsize=(10, 5))\n",
    "plt.plot(times, X_expectations, 'o-', label=\"X Expectation (Qubit 0)\")\n",
    "plt.plot(times, XX_expectations, 's-', label=\"X_0 X_1 Expectation\")\n",
    "plt.xlabel(\"Time (t)\")\n",
    "plt.ylabel(\"Expectation Value\")\n",
    "plt.title(\"Time Evolution of X and X_0 X_1 Correlator (Ising Model)\")\n",
    "plt.legend()\n",
    "plt.grid()\n",
    "plt.show()"
   ]
  },
  {
   "cell_type": "markdown",
   "metadata": {},
   "source": [
    "$$\\text{The End}$$"
   ]
  },
  {
   "cell_type": "code",
   "execution_count": null,
   "metadata": {},
   "outputs": [],
   "source": [
    "# Quantum simulator backend\n",
    "aer_sim = AerBackend()\n",
    "\n",
    "# Define Ising model parameters\n",
    "n_qubits = 5\n",
    "J = 1.0  # Interaction strength\n",
    "h = 0.5  # Transverse field strength\n",
    "\n",
    "# Function to construct the Ising Hamiltonian\n",
    "def get_ising_chain_hamiltonian(n_qubits: int, J: float, h: float) -> QubitPauliOperator:\n",
    "    sites = nx.path_graph(n_qubits)\n",
    "    qpo_dict = {}\n",
    "    for e in sites.edges:\n",
    "        zz_term = QubitPauliString([Qubit(e[0]), Qubit(e[1])], [Pauli.Z, Pauli.Z])\n",
    "        qpo_dict[zz_term] = J  # Interaction term\n",
    "\n",
    "    for i in range(n_qubits):\n",
    "        x_term = QubitPauliString([Qubit(i)], [Pauli.X])\n",
    "        qpo_dict[x_term] = h  # Transverse field term\n",
    "\n",
    "    return QubitPauliOperator(qpo_dict)\n",
    "\n",
    "# Get the Ising Hamiltonian\n",
    "ising_ham = get_ising_chain_hamiltonian(n_qubits, J, h)\n",
    "\n",
    "print(ising_ham)"
   ]
  },
  {
   "cell_type": "code",
   "execution_count": null,
   "metadata": {},
   "outputs": [],
   "source": [
    "# Define time evolution parameters\n",
    "t_max = 20\n",
    "times = np.linspace(1, t_max, 20)\n",
    "trotter_step_size = 3\n",
    "n_shots = 100\n",
    "\n",
    "# Store results\n",
    "energy_expectations = []\n",
    "gate_counts_uncompiled = []\n",
    "gate_counts_compiled = []\n",
    "computation_times = []\n",
    "\n",
    "# Function for Trotterized Ising Hamiltonian evolution\n",
    "def trotterized_time_evolution_ising(H, n_qubits, t, trotter_steps):\n",
    "    circ = Circuit(n_qubits)\n",
    "    dt = t / trotter_steps\n",
    "\n",
    "    for _ in range(trotter_steps):\n",
    "        for term, coeff in H._dict.items():\n",
    "            qubit_indices = [q.index[0] for q in term.map.keys()]\n",
    "            pauli_ops = [p for p in term.map.values()]\n",
    "            if len(qubit_indices) == 2:\n",
    "                circ.CX(qubit_indices[0], qubit_indices[1])\n",
    "                circ.Rz(2 * dt * coeff, qubit_indices[1])\n",
    "                circ.CX(qubit_indices[0], qubit_indices[1])\n",
    "            elif len(qubit_indices) == 1:\n",
    "                circ.Rx(2 * dt * coeff, qubit_indices[0])\n",
    "\n",
    "    return circ"
   ]
  },
  {
   "cell_type": "code",
   "execution_count": null,
   "metadata": {},
   "outputs": [],
   "source": [
    "# Compute energy conservation over time evolution\n",
    "for t in times:\n",
    "    # Generate the time evolution circuit using Ising model\n",
    "    time_evolution_circ = trotterized_time_evolution_ising(ising_ham, n_qubits, t, trotter_step_size)\n",
    "\n",
    "    # Get uncompiled two-qubit gate count\n",
    "    uncompiled_circ = time_evolution_circ.copy()\n",
    "    DecomposeBoxes().apply(uncompiled_circ)\n",
    "    gate_counts_uncompiled.append(uncompiled_circ.n_2qb_gates())\n",
    "\n",
    "    # Compile the circuit\n",
    "    start_time = time.time()\n",
    "    time_evolution_circ_compiled = aer_sim.get_compiled_circuit(time_evolution_circ, optimisation_level=2)\n",
    "    gate_counts_compiled.append(time_evolution_circ_compiled.n_2qb_gates())\n",
    "\n",
    "    # Compute energy expectation value\n",
    "    energy = get_operator_expectation_value(time_evolution_circ_compiled, ising_ham, aer_sim, n_shots=n_shots)\n",
    "    energy_expectations.append(energy.real)\n",
    "\n",
    "    # Store computation time\n",
    "    computation_times.append(time.time() - start_time)"
   ]
  },
  {
   "cell_type": "code",
   "execution_count": null,
   "metadata": {},
   "outputs": [],
   "source": [
    "# Plot energy expectation values over time\n",
    "plt.figure(figsize=(8, 5))\n",
    "plt.plot(times, energy_expectations, 'o-', label=\"Energy Expectation\")\n",
    "plt.xlabel(\"Time (t)\")\n",
    "plt.ylabel(\"Energy Expectation Value\")\n",
    "plt.title(\"Energy Expectation Over Time Evolution (Ising Model)\")\n",
    "plt.legend()\n",
    "plt.grid()\n",
    "plt.show()"
   ]
  },
  {
   "cell_type": "code",
   "execution_count": null,
   "metadata": {},
   "outputs": [],
   "source": [
    "# Quantum simulator backend\n",
    "aer_sim = AerBackend()\n",
    "\n",
    "# Define time evolution parameters\n",
    "t_max = 20\n",
    "times = np.linspace(1, t_max, 20)\n",
    "trotter_step_size = 3\n",
    "\n",
    "# Store results\n",
    "gate_counts_uncompiled = []\n",
    "gate_counts_compiled = []\n",
    "\n",
    "# Compute two-qubit gate count over time evolution\n",
    "for t in times:\n",
    "    # Generate the time evolution circuit (using pre-defined Ising Trotterized function)\n",
    "    time_evolution_circ = trotterized_time_evolution_ising(ising_ham, n_qubits, t, trotter_step_size)\n",
    "\n",
    "    # Get uncompiled two-qubit gate count\n",
    "    uncompiled_circ = time_evolution_circ.copy()\n",
    "    DecomposeBoxes().apply(uncompiled_circ)\n",
    "    gate_counts_uncompiled.append(uncompiled_circ.n_2qb_gates())\n",
    "\n",
    "    # Compile the circuit\n",
    "    time_evolution_circ_compiled = aer_sim.get_compiled_circuit(time_evolution_circ, optimisation_level=2)\n",
    "    gate_counts_compiled.append(time_evolution_circ_compiled.n_2qb_gates())"
   ]
  },
  {
   "cell_type": "code",
   "execution_count": null,
   "metadata": {},
   "outputs": [],
   "source": [
    "# Plot two-qubit gate count over time\n",
    "plt.figure(figsize=(8, 5))\n",
    "plt.plot(times, gate_counts_uncompiled, 'o-', label=\"Uncompiled 2Q Gate Count\")\n",
    "plt.plot(times, gate_counts_compiled, 's-', label=\"Compiled 2Q Gate Count\")\n",
    "plt.xlabel(\"Time (t)\")\n",
    "plt.ylabel(\"Two-Qubit Gate Count\")\n",
    "plt.title(\"Two-Qubit Gate Count Over Time Evolution (Ising Model)\")\n",
    "plt.legend()\n",
    "plt.grid()\n",
    "plt.show()\n"
   ]
  },
  {
   "cell_type": "code",
   "execution_count": null,
   "metadata": {},
   "outputs": [],
   "source": [
    "# Quantum simulator backend\n",
    "aer_sim = AerBackend()\n",
    "\n",
    "# Define time evolution parameters\n",
    "t_max = 20\n",
    "times = np.linspace(1, t_max, 20)\n",
    "trotter_step_size = 3\n",
    "n_shots = 100  # Number of measurement shots\n",
    "\n",
    "# Store computation times\n",
    "computation_times = []\n",
    "\n",
    "# Compute computation time for expectation energy evaluation\n",
    "for t in times:\n",
    "    # Generate the time evolution circuit (using pre-defined Ising function)\n",
    "    time_evolution_circ = trotterized_time_evolution_ising(ising_ham, n_qubits, t, trotter_step_size)\n",
    "\n",
    "    # Compile the circuit\n",
    "    compiled_circuit = aer_sim.get_compiled_circuit(time_evolution_circ, optimisation_level=2)\n",
    "\n",
    "    # Measure computation time\n",
    "    start_time = time.time()\n",
    "    energy = get_operator_expectation_value(compiled_circuit, ising_ham, aer_sim, n_shots=n_shots)\n",
    "    computation_times.append(time.time() - start_time)\n",
    "\n"
   ]
  },
  {
   "cell_type": "code",
   "execution_count": null,
   "metadata": {},
   "outputs": [],
   "source": [
    "# Plot computation time over time evolution\n",
    "plt.figure(figsize=(8, 5))\n",
    "plt.plot(times, computation_times, 'o-', label=\"Computation Time\")\n",
    "plt.xlabel(\"Time (t)\")\n",
    "plt.ylabel(\"Computation Time (s)\")\n",
    "plt.title(\"Computation Time for Expectation Energy Evaluation (Ising Model)\")\n",
    "plt.legend()\n",
    "plt.grid()\n",
    "plt.show()"
   ]
  },
  {
   "cell_type": "code",
   "execution_count": null,
   "metadata": {},
   "outputs": [],
   "source": [
    "# Quantum simulator backend\n",
    "aer_sim = AerBackend()\n",
    "\n",
    "# Define time evolution parameters\n",
    "t_max = 20\n",
    "times = np.linspace(1, t_max, 20)\n",
    "trotter_step_size = 3\n",
    "n_shots = 100  # Number of measurement shots\n",
    "\n",
    "# Define observables as QubitPauliOperator\n",
    "X0 = QubitPauliOperator({QubitPauliString([Qubit(0)], [Pauli.X]): 1.0})\n",
    "X0X1 = QubitPauliOperator({QubitPauliString([Qubit(0), Qubit(1)], [Pauli.X, Pauli.X]): 1.0})\n",
    "\n",
    "# Store results\n",
    "X0_expectations = []\n",
    "X0X1_expectations = []\n",
    "computation_times = []\n",
    "\n",
    "# Compute expectation values over time evolution\n",
    "for t in times:\n",
    "    # Generate the time evolution circuit\n",
    "    time_evolution_circ = trotterized_time_evolution_ising(ising_ham, n_qubits, t, trotter_step_size)\n",
    "\n",
    "    # Compile the circuit\n",
    "    compiled_circuit = aer_sim.get_compiled_circuit(time_evolution_circ, optimisation_level=2)\n",
    "\n",
    "    # Measure computation time\n",
    "    start_time = time.time()\n",
    "    X0_expectations.append(get_operator_expectation_value(compiled_circuit, X0, aer_sim, n_shots=n_shots).real)\n",
    "    X0X1_expectations.append(get_operator_expectation_value(compiled_circuit, X0X1, aer_sim, n_shots=n_shots).real)\n",
    "    computation_times.append(time.time() - start_time)\n"
   ]
  },
  {
   "cell_type": "code",
   "execution_count": null,
   "metadata": {},
   "outputs": [],
   "source": [
    "# Plot time evolution of ⟨X0⟩ and ⟨X0 X1⟩\n",
    "plt.figure(figsize=(8, 5))\n",
    "plt.plot(times, X0_expectations, 'o-', label=\"⟨X0⟩\")\n",
    "plt.plot(times, X0X1_expectations, 's-', label=\"⟨X0 X1⟩\")\n",
    "plt.xlabel(\"Time (t)\")\n",
    "plt.ylabel(\"Expectation Value\")\n",
    "plt.title(\"Time Evolution of ⟨X0⟩ and ⟨X0 X1⟩ (Ising Model)\")\n",
    "plt.legend()\n",
    "plt.grid()\n",
    "plt.show()\n",
    "\n",
    "# Plot computation time over time evolution\n",
    "plt.figure(figsize=(8, 5))\n",
    "plt.plot(times, computation_times, 'o-', label=\"Computation Time\")\n",
    "plt.xlabel(\"Time (t)\")\n",
    "plt.ylabel(\"Computation Time (s)\")\n",
    "plt.title(\"Computation Time for Expectation ⟨X0⟩ and ⟨X0 X1⟩ (Ising Model)\")\n",
    "plt.legend()\n",
    "plt.grid()\n",
    "plt.show()"
   ]
  }
 ],
 "metadata": {
  "kernelspec": {
   "display_name": "Python [conda env:base] *",
   "language": "python",
   "name": "conda-base-py"
  },
  "language_info": {
   "codemirror_mode": {
    "name": "ipython",
    "version": 3
   },
   "file_extension": ".py",
   "mimetype": "text/x-python",
   "name": "python",
   "nbconvert_exporter": "python",
   "pygments_lexer": "ipython3",
   "version": "3.10.11"
  }
 },
 "nbformat": 4,
 "nbformat_minor": 4
}
